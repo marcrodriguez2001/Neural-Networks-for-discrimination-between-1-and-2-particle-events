{
 "cells": [
  {
   "cell_type": "markdown",
   "id": "cdc4dfc0-6e0d-4114-9b5d-7ffd36dd233f",
   "metadata": {},
   "source": [
    "## Input Images qmax in row, col reconstruction"
   ]
  },
  {
   "cell_type": "code",
   "execution_count": 129,
   "id": "b141f298-9039-4923-831c-9d3687c966ff",
   "metadata": {
    "tags": []
   },
   "outputs": [],
   "source": [
    "import uproot\n",
    "import awkward as ak\n",
    "import pandas as pd\n",
    "import matplotlib.pyplot as plt\n",
    "import matplotlib.gridspec as gridspec\n",
    "import numpy as np\n",
    "import os"
   ]
  },
  {
   "cell_type": "markdown",
   "id": "d83e3c67-96d3-413a-8922-8f8cbb4b5c26",
   "metadata": {},
   "source": [
    "* Dataframe definition:"
   ]
  },
  {
   "cell_type": "code",
   "execution_count": 130,
   "id": "e7ba9044-37af-4419-86a8-13a1ea30b7bf",
   "metadata": {
    "tags": []
   },
   "outputs": [],
   "source": [
    "class ND280_dataset:\n",
    "    def __init__(self, path):\n",
    "        #tree_hattracks = uproot.open(path)['hatdigits']\n",
    "        tree_hattracks = uproot.open(path)['hatdigits']\n",
    "        \n",
    "        df = tree_hattracks.arrays()\n",
    "        tree = ak.to_dataframe(df)\n",
    "        keys = tree.index.get_level_values('entry').unique()\n",
    "        \n",
    "        self.tree = tree\n",
    "        self.keys = keys\n",
    "        \n",
    "    def __getitem__(self, i):\n",
    "        key = self.keys[i]\n",
    "        return self.tree.loc[key]\n",
    "    \n",
    "    def __len__(self):\n",
    "        return len(self.keys)"
   ]
  },
  {
   "cell_type": "markdown",
   "id": "1864fef3-8935-462d-8bf7-406c0cf981ee",
   "metadata": {},
   "source": [
    "Select desired path (you can select the desired path by changing the #):"
   ]
  },
  {
   "cell_type": "markdown",
   "id": "7c081f3a-5e08-469c-9547-7259cb00a5e8",
   "metadata": {},
   "source": [
    "- 1 track events:"
   ]
  },
  {
   "cell_type": "code",
   "execution_count": 153,
   "id": "da3ce28e-11d0-48b9-b178-d35745db6647",
   "metadata": {
    "tags": []
   },
   "outputs": [],
   "source": [
    "#path=\"/nfs/pic.es/user/m/mrodrigu/Generate Images/1track.root\"\n",
    "#Title='1 Track'"
   ]
  },
  {
   "cell_type": "markdown",
   "id": "254818e9-fc37-480c-bb95-d8cd6d17faee",
   "metadata": {},
   "source": [
    "- 2 tracks, 1 vertex events:"
   ]
  },
  {
   "cell_type": "code",
   "execution_count": 147,
   "id": "1aa12f6b-f2c3-40e8-bef0-f8e4c19c5253",
   "metadata": {
    "tags": []
   },
   "outputs": [],
   "source": [
    "#path= \"/nfs/pic.es/user/m/mrodrigu/Generate Images/1vertex.root\"\n",
    "#Title='2 Tracks, 1 Vertex'"
   ]
  },
  {
   "cell_type": "markdown",
   "id": "fdb07844-94f9-47e6-bc2c-af68b60cfa6f",
   "metadata": {},
   "source": [
    "- 2 tracks, 2 vertex events:"
   ]
  },
  {
   "cell_type": "code",
   "execution_count": 159,
   "id": "512a9e7b-cb5a-4704-8abc-78222e1b8215",
   "metadata": {
    "tags": []
   },
   "outputs": [],
   "source": [
    "#path= \"/nfs/pic.es/user/m/mrodrigu/Generate Images/2vertex_corr.root\"\n",
    "#Title='2 Tracks, 2 Vertex'"
   ]
  },
  {
   "cell_type": "markdown",
   "id": "0ee63f99-4e52-4a91-9262-6153e1471933",
   "metadata": {},
   "source": [
    "- 2 tracks, 2 vertex events (variable direction for the tracks):"
   ]
  },
  {
   "cell_type": "code",
   "execution_count": 166,
   "id": "3ae87a6d-d8a0-4dfa-899c-f86e1d37a833",
   "metadata": {
    "tags": []
   },
   "outputs": [],
   "source": [
    "path= \"/nfs/pic.es/user/m/mrodrigu/Generate Images/2vertex_corr_ang.root\"\n",
    "Title='2 Tracks, 2 Vertex, with variable direction'"
   ]
  },
  {
   "cell_type": "markdown",
   "id": "ace82b15-3a14-49f5-80d4-3d4de36bb4c1",
   "metadata": {},
   "source": [
    "Definition:"
   ]
  },
  {
   "cell_type": "code",
   "execution_count": 167,
   "id": "df7a95d1-bed3-4ff2-b896-443407a361e6",
   "metadata": {
    "tags": []
   },
   "outputs": [],
   "source": [
    "ds = ND280_dataset(path)"
   ]
  },
  {
   "cell_type": "code",
   "execution_count": 168,
   "id": "ce1b7891-0d05-4584-a417-ebd773a92381",
   "metadata": {
    "tags": []
   },
   "outputs": [],
   "source": [
    "df = pd.DataFrame(ds.tree)"
   ]
  },
  {
   "cell_type": "code",
   "execution_count": 169,
   "id": "850f9e5f-aac2-4a6e-b779-ca804b5ec7cb",
   "metadata": {
    "tags": []
   },
   "outputs": [],
   "source": [
    "df_unique_entries = df.groupby('entry').first()"
   ]
  },
  {
   "cell_type": "code",
   "execution_count": 170,
   "id": "ef40ff3d-061b-41cb-98ca-73ceb7de366b",
   "metadata": {
    "tags": []
   },
   "outputs": [
    {
     "name": "stdout",
     "output_type": "stream",
     "text": [
      "nº events= 5\n"
     ]
    }
   ],
   "source": [
    "print(f'nº events= {len(df_unique_entries.groupby(\"event\"))}')"
   ]
  },
  {
   "cell_type": "code",
   "execution_count": 171,
   "id": "af85cead-8738-4ef6-9225-5a85158dcf2c",
   "metadata": {
    "tags": []
   },
   "outputs": [
    {
     "name": "stdout",
     "output_type": "stream",
     "text": [
      "nº entries= 1543\n"
     ]
    }
   ],
   "source": [
    "print(f'nº entries= {len(df_unique_entries)}')"
   ]
  },
  {
   "cell_type": "code",
   "execution_count": 172,
   "id": "b3601db1-aa64-4aba-8984-6169ac60cb3f",
   "metadata": {
    "tags": []
   },
   "outputs": [
    {
     "data": {
      "text/html": [
       "<div>\n",
       "<style scoped>\n",
       "    .dataframe tbody tr th:only-of-type {\n",
       "        vertical-align: middle;\n",
       "    }\n",
       "\n",
       "    .dataframe tbody tr th {\n",
       "        vertical-align: top;\n",
       "    }\n",
       "\n",
       "    .dataframe thead th {\n",
       "        text-align: right;\n",
       "    }\n",
       "</style>\n",
       "<table border=\"1\" class=\"dataframe\">\n",
       "  <thead>\n",
       "    <tr style=\"text-align: right;\">\n",
       "      <th></th>\n",
       "      <th>event</th>\n",
       "      <th>hat</th>\n",
       "      <th>plate</th>\n",
       "      <th>fem</th>\n",
       "      <th>fec</th>\n",
       "      <th>asic</th>\n",
       "      <th>channel</th>\n",
       "      <th>time</th>\n",
       "      <th>nsamples</th>\n",
       "      <th>adc</th>\n",
       "      <th>row</th>\n",
       "      <th>col</th>\n",
       "      <th>y</th>\n",
       "      <th>z</th>\n",
       "      <th>qmax</th>\n",
       "      <th>tmax</th>\n",
       "      <th>fwhm</th>\n",
       "    </tr>\n",
       "    <tr>\n",
       "      <th>entry</th>\n",
       "      <th></th>\n",
       "      <th></th>\n",
       "      <th></th>\n",
       "      <th></th>\n",
       "      <th></th>\n",
       "      <th></th>\n",
       "      <th></th>\n",
       "      <th></th>\n",
       "      <th></th>\n",
       "      <th></th>\n",
       "      <th></th>\n",
       "      <th></th>\n",
       "      <th></th>\n",
       "      <th></th>\n",
       "      <th></th>\n",
       "      <th></th>\n",
       "      <th></th>\n",
       "    </tr>\n",
       "  </thead>\n",
       "  <tbody>\n",
       "    <tr>\n",
       "      <th>0</th>\n",
       "      <td>0</td>\n",
       "      <td>0</td>\n",
       "      <td>0</td>\n",
       "      <td>1</td>\n",
       "      <td>0</td>\n",
       "      <td>4</td>\n",
       "      <td>5</td>\n",
       "      <td>302</td>\n",
       "      <td>26</td>\n",
       "      <td>272</td>\n",
       "      <td>27</td>\n",
       "      <td>15</td>\n",
       "      <td>1083.685059</td>\n",
       "      <td>-2182.635986</td>\n",
       "      <td>288</td>\n",
       "      <td>312</td>\n",
       "      <td>13</td>\n",
       "    </tr>\n",
       "    <tr>\n",
       "      <th>1</th>\n",
       "      <td>0</td>\n",
       "      <td>0</td>\n",
       "      <td>0</td>\n",
       "      <td>1</td>\n",
       "      <td>0</td>\n",
       "      <td>4</td>\n",
       "      <td>6</td>\n",
       "      <td>239</td>\n",
       "      <td>54</td>\n",
       "      <td>246</td>\n",
       "      <td>27</td>\n",
       "      <td>14</td>\n",
       "      <td>1083.685059</td>\n",
       "      <td>-2193.916016</td>\n",
       "      <td>900</td>\n",
       "      <td>257</td>\n",
       "      <td>16</td>\n",
       "    </tr>\n",
       "    <tr>\n",
       "      <th>2</th>\n",
       "      <td>0</td>\n",
       "      <td>0</td>\n",
       "      <td>0</td>\n",
       "      <td>1</td>\n",
       "      <td>0</td>\n",
       "      <td>4</td>\n",
       "      <td>7</td>\n",
       "      <td>239</td>\n",
       "      <td>55</td>\n",
       "      <td>251</td>\n",
       "      <td>27</td>\n",
       "      <td>13</td>\n",
       "      <td>1083.685059</td>\n",
       "      <td>-2205.196045</td>\n",
       "      <td>985</td>\n",
       "      <td>258</td>\n",
       "      <td>16</td>\n",
       "    </tr>\n",
       "    <tr>\n",
       "      <th>3</th>\n",
       "      <td>0</td>\n",
       "      <td>0</td>\n",
       "      <td>0</td>\n",
       "      <td>1</td>\n",
       "      <td>0</td>\n",
       "      <td>4</td>\n",
       "      <td>8</td>\n",
       "      <td>275</td>\n",
       "      <td>82</td>\n",
       "      <td>274</td>\n",
       "      <td>27</td>\n",
       "      <td>12</td>\n",
       "      <td>1083.685059</td>\n",
       "      <td>-2216.476074</td>\n",
       "      <td>294</td>\n",
       "      <td>296</td>\n",
       "      <td>51</td>\n",
       "    </tr>\n",
       "    <tr>\n",
       "      <th>4</th>\n",
       "      <td>0</td>\n",
       "      <td>0</td>\n",
       "      <td>0</td>\n",
       "      <td>1</td>\n",
       "      <td>0</td>\n",
       "      <td>4</td>\n",
       "      <td>16</td>\n",
       "      <td>240</td>\n",
       "      <td>57</td>\n",
       "      <td>239</td>\n",
       "      <td>26</td>\n",
       "      <td>14</td>\n",
       "      <td>1073.494995</td>\n",
       "      <td>-2193.916016</td>\n",
       "      <td>479</td>\n",
       "      <td>257</td>\n",
       "      <td>15</td>\n",
       "    </tr>\n",
       "    <tr>\n",
       "      <th>...</th>\n",
       "      <td>...</td>\n",
       "      <td>...</td>\n",
       "      <td>...</td>\n",
       "      <td>...</td>\n",
       "      <td>...</td>\n",
       "      <td>...</td>\n",
       "      <td>...</td>\n",
       "      <td>...</td>\n",
       "      <td>...</td>\n",
       "      <td>...</td>\n",
       "      <td>...</td>\n",
       "      <td>...</td>\n",
       "      <td>...</td>\n",
       "      <td>...</td>\n",
       "      <td>...</td>\n",
       "      <td>...</td>\n",
       "      <td>...</td>\n",
       "    </tr>\n",
       "    <tr>\n",
       "      <th>1538</th>\n",
       "      <td>4</td>\n",
       "      <td>0</td>\n",
       "      <td>0</td>\n",
       "      <td>5</td>\n",
       "      <td>0</td>\n",
       "      <td>3</td>\n",
       "      <td>60</td>\n",
       "      <td>390</td>\n",
       "      <td>26</td>\n",
       "      <td>256</td>\n",
       "      <td>2</td>\n",
       "      <td>0</td>\n",
       "      <td>487.934998</td>\n",
       "      <td>-2351.835938</td>\n",
       "      <td>287</td>\n",
       "      <td>400</td>\n",
       "      <td>1</td>\n",
       "    </tr>\n",
       "    <tr>\n",
       "      <th>1539</th>\n",
       "      <td>4</td>\n",
       "      <td>0</td>\n",
       "      <td>0</td>\n",
       "      <td>5</td>\n",
       "      <td>0</td>\n",
       "      <td>3</td>\n",
       "      <td>61</td>\n",
       "      <td>269</td>\n",
       "      <td>91</td>\n",
       "      <td>250</td>\n",
       "      <td>2</td>\n",
       "      <td>1</td>\n",
       "      <td>487.934998</td>\n",
       "      <td>-2340.555908</td>\n",
       "      <td>532</td>\n",
       "      <td>285</td>\n",
       "      <td>15</td>\n",
       "    </tr>\n",
       "    <tr>\n",
       "      <th>1540</th>\n",
       "      <td>4</td>\n",
       "      <td>0</td>\n",
       "      <td>0</td>\n",
       "      <td>5</td>\n",
       "      <td>0</td>\n",
       "      <td>3</td>\n",
       "      <td>62</td>\n",
       "      <td>329</td>\n",
       "      <td>50</td>\n",
       "      <td>273</td>\n",
       "      <td>2</td>\n",
       "      <td>2</td>\n",
       "      <td>487.934998</td>\n",
       "      <td>-2329.275879</td>\n",
       "      <td>291</td>\n",
       "      <td>339</td>\n",
       "      <td>26</td>\n",
       "    </tr>\n",
       "    <tr>\n",
       "      <th>1541</th>\n",
       "      <td>4</td>\n",
       "      <td>0</td>\n",
       "      <td>0</td>\n",
       "      <td>5</td>\n",
       "      <td>0</td>\n",
       "      <td>3</td>\n",
       "      <td>70</td>\n",
       "      <td>270</td>\n",
       "      <td>48</td>\n",
       "      <td>259</td>\n",
       "      <td>3</td>\n",
       "      <td>0</td>\n",
       "      <td>498.125000</td>\n",
       "      <td>-2351.835938</td>\n",
       "      <td>476</td>\n",
       "      <td>288</td>\n",
       "      <td>15</td>\n",
       "    </tr>\n",
       "    <tr>\n",
       "      <th>1542</th>\n",
       "      <td>4</td>\n",
       "      <td>0</td>\n",
       "      <td>0</td>\n",
       "      <td>5</td>\n",
       "      <td>0</td>\n",
       "      <td>3</td>\n",
       "      <td>71</td>\n",
       "      <td>271</td>\n",
       "      <td>50</td>\n",
       "      <td>255</td>\n",
       "      <td>3</td>\n",
       "      <td>1</td>\n",
       "      <td>498.125000</td>\n",
       "      <td>-2340.555908</td>\n",
       "      <td>383</td>\n",
       "      <td>288</td>\n",
       "      <td>19</td>\n",
       "    </tr>\n",
       "  </tbody>\n",
       "</table>\n",
       "<p>1543 rows × 17 columns</p>\n",
       "</div>"
      ],
      "text/plain": [
       "       event  hat  plate  fem  fec  asic  channel  time  nsamples  adc  row  \\\n",
       "entry                                                                         \n",
       "0          0    0      0    1    0     4        5   302        26  272   27   \n",
       "1          0    0      0    1    0     4        6   239        54  246   27   \n",
       "2          0    0      0    1    0     4        7   239        55  251   27   \n",
       "3          0    0      0    1    0     4        8   275        82  274   27   \n",
       "4          0    0      0    1    0     4       16   240        57  239   26   \n",
       "...      ...  ...    ...  ...  ...   ...      ...   ...       ...  ...  ...   \n",
       "1538       4    0      0    5    0     3       60   390        26  256    2   \n",
       "1539       4    0      0    5    0     3       61   269        91  250    2   \n",
       "1540       4    0      0    5    0     3       62   329        50  273    2   \n",
       "1541       4    0      0    5    0     3       70   270        48  259    3   \n",
       "1542       4    0      0    5    0     3       71   271        50  255    3   \n",
       "\n",
       "       col            y            z  qmax  tmax  fwhm  \n",
       "entry                                                   \n",
       "0       15  1083.685059 -2182.635986   288   312    13  \n",
       "1       14  1083.685059 -2193.916016   900   257    16  \n",
       "2       13  1083.685059 -2205.196045   985   258    16  \n",
       "3       12  1083.685059 -2216.476074   294   296    51  \n",
       "4       14  1073.494995 -2193.916016   479   257    15  \n",
       "...    ...          ...          ...   ...   ...   ...  \n",
       "1538     0   487.934998 -2351.835938   287   400     1  \n",
       "1539     1   487.934998 -2340.555908   532   285    15  \n",
       "1540     2   487.934998 -2329.275879   291   339    26  \n",
       "1541     0   498.125000 -2351.835938   476   288    15  \n",
       "1542     1   498.125000 -2340.555908   383   288    19  \n",
       "\n",
       "[1543 rows x 17 columns]"
      ]
     },
     "execution_count": 172,
     "metadata": {},
     "output_type": "execute_result"
    }
   ],
   "source": [
    "df_unique_entries"
   ]
  },
  {
   "cell_type": "markdown",
   "id": "e3f4dd05-fa13-4e57-9bda-5292934632c5",
   "metadata": {},
   "source": [
    "**2D maps:**"
   ]
  },
  {
   "cell_type": "markdown",
   "id": "936eb366-422b-4f8a-aec1-b1e9c588b823",
   "metadata": {},
   "source": [
    "* Qmax in row,col (compiled matrix): "
   ]
  },
  {
   "cell_type": "code",
   "execution_count": 173,
   "id": "68db822e-bd57-4495-8614-1c731bce61b0",
   "metadata": {
    "tags": []
   },
   "outputs": [
    {
     "data": {
      "image/png": "[encoded data removed]",
      "text/plain": [
       "<Figure size 1000x800 with 2 Axes>"
      ]
     },
     "metadata": {},
     "output_type": "display_data"
    }
   ],
   "source": [
    "event_value=1\n",
    "df_sel = df_unique_entries[df_unique_entries['event']== event_value]\n",
    "\n",
    "global_qmax_max = 4000\n",
    "global_qmax_min = 0\n",
    "\n",
    "for fem_value in range(8):\n",
    "    df_sel_fem = df_sel[df_sel['fem'] == fem_value]\n",
    "    num_inputs = len(df_sel_fem)\n",
    "\n",
    "    if num_inputs != 0:\n",
    "        matrix_name = f\"matrix_{fem_value}\"  \n",
    "        globals()[matrix_name] = np.zeros((32, 36))  \n",
    "        globals()[matrix_name][df_sel_fem['row'], df_sel_fem['col']] = df_sel_fem['qmax']\n",
    "\n",
    "    else:\n",
    "        matrix_name = f\"matrix_{fem_value}\"\n",
    "        globals()[matrix_name] = np.full((32, 36), global_qmax_min) \n",
    "\n",
    "matrix_up= np.hstack((matrix_0, matrix_1, matrix_2, matrix_3))\n",
    "matrix_down= np.hstack((matrix_4, matrix_5, matrix_6, matrix_7))\n",
    "complete_matrix= np.vstack((matrix_down, matrix_up))\n",
    "\n",
    "plt.figure(figsize=(10, 8))\n",
    "ax = plt.gca()\n",
    "\n",
    "im = ax.imshow(complete_matrix, cmap='viridis', origin='lower', vmin=global_qmax_min, vmax=global_qmax_max)\n",
    "\n",
    "plt.colorbar(im, ax=ax, label='qmax',shrink=0.6)\n",
    "\n",
    "ax.set_xticks([])\n",
    "ax.set_yticks([])\n",
    "\n",
    "ax.set_xlabel('col')\n",
    "ax.set_ylabel('row')\n",
    "\n",
    "\n",
    "plt.suptitle(f'Qmax in row, col for event {event_value} in {Title}', fontsize=16, y=0.8)\n",
    "\n",
    "plt.tight_layout()\n",
    "\n",
    "plt.savefig('normal', dpi=200)"
   ]
  },
  {
   "cell_type": "markdown",
   "id": "c206de87-9a12-4571-8f4f-7920417701a3",
   "metadata": {},
   "source": [
    "Code that generates a folder with images of all events:"
   ]
  },
  {
   "cell_type": "code",
   "execution_count": 174,
   "id": "223be897-a694-4067-8606-466a16f2bd00",
   "metadata": {
    "tags": []
   },
   "outputs": [
    {
     "name": "stdout",
     "output_type": "stream",
     "text": [
      "All done!\n"
     ]
    },
    {
     "data": {
      "text/plain": [
       "<Figure size 1000x800 with 0 Axes>"
      ]
     },
     "metadata": {},
     "output_type": "display_data"
    },
    {
     "data": {
      "text/plain": [
       "<Figure size 1000x800 with 0 Axes>"
      ]
     },
     "metadata": {},
     "output_type": "display_data"
    },
    {
     "data": {
      "text/plain": [
       "<Figure size 1000x800 with 0 Axes>"
      ]
     },
     "metadata": {},
     "output_type": "display_data"
    },
    {
     "data": {
      "text/plain": [
       "<Figure size 1000x800 with 0 Axes>"
      ]
     },
     "metadata": {},
     "output_type": "display_data"
    },
    {
     "data": {
      "text/plain": [
       "<Figure size 1000x800 with 0 Axes>"
      ]
     },
     "metadata": {},
     "output_type": "display_data"
    }
   ],
   "source": [
    "output_folder = f'Qmax in row col {Title}'\n",
    "if not os.path.exists(output_folder):\n",
    "    os.makedirs(output_folder)\n",
    "\n",
    "global_qmax_min=0\n",
    "global_qmax_max=4000\n",
    "    \n",
    "for event_value in range(len(df_unique_entries.groupby(\"event\"))):  \n",
    "    df_sel = df_unique_entries[df_unique_entries['event']== event_value]\n",
    "    for fem_value in range(8):\n",
    "        df_sel_fem = df_sel[df_sel['fem'] == fem_value]\n",
    "        num_inputs = len(df_sel_fem)\n",
    "\n",
    "        if num_inputs != 0:\n",
    "            matrix_name = f\"matrix_{fem_value}\"  \n",
    "            globals()[matrix_name] = np.zeros((32, 36))  \n",
    "            globals()[matrix_name][df_sel_fem['row'], df_sel_fem['col']] = df_sel_fem['qmax']\n",
    "\n",
    "        else:\n",
    "            matrix_name = f\"matrix_{fem_value}\"\n",
    "            globals()[matrix_name] = np.full((32, 36), global_qmax_min)  \n",
    "\n",
    "    matrix_up= np.hstack((matrix_0, matrix_1, matrix_2, matrix_3))\n",
    "    matrix_down= np.hstack((matrix_4, matrix_5, matrix_6, matrix_7))\n",
    "    complete_matrix= np.vstack((matrix_down, matrix_up))\n",
    "\n",
    "    plt.figure(figsize=(10, 8))\n",
    "    ax = plt.gca()\n",
    "\n",
    "    im = ax.imshow(complete_matrix, cmap='viridis', origin='lower', vmin=global_qmax_min, vmax=global_qmax_max)\n",
    "\n",
    "    plt.colorbar(im, ax=ax, shrink=0.6, )\n",
    "\n",
    "    ax.set_xlabel('col')\n",
    "    ax.set_ylabel('row')\n",
    "\n",
    "    ax.set_xticks([])\n",
    "    ax.set_yticks([])\n",
    "    plt.suptitle(f'Qmax in row, col for event {event_value} in {Title}', fontsize=16, y=0.8)\n",
    "\n",
    "    plt.tight_layout()\n",
    "        \n",
    "    output_file = f'{output_folder}/fem_qmax_row_col_{event_value}_{Title}'\n",
    "    plt.savefig(output_file, dpi=200, bbox_inches='tight')\n",
    "    plt.clf()\n",
    "\n",
    "print('All done!')"
   ]
  },
  {
   "cell_type": "markdown",
   "id": "8305dba4-608f-4a8a-8f92-16c0c7c19596",
   "metadata": {},
   "source": [
    "* Qmax in row,col (compiled matrix with SPACE):    \n",
    "There is a small spatial separation between the Fems, so in this representation a column and row of 0's are added between Fems for a more correct description."
   ]
  },
  {
   "cell_type": "code",
   "execution_count": 175,
   "id": "81f4eebd-6494-455b-96a0-cbbfce28c0ca",
   "metadata": {
    "tags": []
   },
   "outputs": [
    {
     "data": {
      "image/png": "[encoded data removed]",
      "text/plain": [
       "<Figure size 1000x800 with 2 Axes>"
      ]
     },
     "metadata": {},
     "output_type": "display_data"
    }
   ],
   "source": [
    "event_value=1\n",
    "df_sel = df_unique_entries[df_unique_entries['event']== event_value]\n",
    "\n",
    "global_qmax_max = 4000\n",
    "global_qmax_min = 0\n",
    "\n",
    "for fem_value in range(8):\n",
    "    df_sel_fem = df_sel[df_sel['fem'] == fem_value]\n",
    "    num_inputs = len(df_sel_fem)\n",
    "\n",
    "    if num_inputs != 0:\n",
    "        matrix_name = f\"matrix_{fem_value}\"  \n",
    "        globals()[matrix_name] = np.zeros((32, 36))  \n",
    "        globals()[matrix_name][df_sel_fem['row'], df_sel_fem['col']] = df_sel_fem['qmax']\n",
    "\n",
    "    else:\n",
    "        matrix_name = f\"matrix_{fem_value}\"\n",
    "        globals()[matrix_name] = np.full((32, 36), global_qmax_min)  \n",
    "\n",
    "zero_matrix_col=np.zeros((32, 1))\n",
    "zero_matrix_row=np.zeros((1, 147))\n",
    "matrix_up= np.hstack((matrix_0, zero_matrix_col, matrix_1, zero_matrix_col, matrix_2, zero_matrix_col, matrix_3))\n",
    "matrix_down= np.hstack((matrix_4, zero_matrix_col, matrix_5, zero_matrix_col, matrix_6, zero_matrix_col, matrix_7))\n",
    "complete_matrix= np.vstack((matrix_down, zero_matrix_row, matrix_up))\n",
    "\n",
    "\n",
    "plt.figure(figsize=(10, 8))\n",
    "ax = plt.gca()\n",
    "\n",
    "im = ax.imshow(complete_matrix, cmap='viridis', origin='lower', vmin=global_qmax_min, vmax=global_qmax_max)\n",
    "\n",
    "plt.colorbar(im, ax=ax, label='qmax',shrink=0.6)\n",
    "\n",
    "ax.set_xlabel('col')\n",
    "ax.set_ylabel('row')\n",
    "\n",
    "ax.set_xticks([])\n",
    "ax.set_yticks([])\n",
    "plt.suptitle(f'Qmax in row, col for event {event_value} in {Title} with Space between Fems', fontsize=16, y=0.8)\n",
    "\n",
    "plt.tight_layout()\n",
    "\n",
    "plt.savefig('space', dpi=200)"
   ]
  }
 ],
 "metadata": {
  "kernelspec": {
   "display_name": "Python 3 (ipykernel)",
   "language": "python",
   "name": "python3"
  },
  "language_info": {
   "codemirror_mode": {
    "name": "ipython",
    "version": 3
   },
   "file_extension": ".py",
   "mimetype": "text/x-python",
   "name": "python",
   "nbconvert_exporter": "python",
   "pygments_lexer": "ipython3",
   "version": "3.11.5"
  }
 },
 "nbformat": 4,
 "nbformat_minor": 5
}
