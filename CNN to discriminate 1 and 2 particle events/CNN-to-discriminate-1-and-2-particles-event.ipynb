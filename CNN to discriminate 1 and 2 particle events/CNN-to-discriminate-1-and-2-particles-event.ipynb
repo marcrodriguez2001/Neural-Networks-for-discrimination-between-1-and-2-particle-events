{
 "cells": [
  {
   "cell_type": "markdown",
   "id": "f20db770-0541-4a2b-8358-8fc4a54b1222",
   "metadata": {},
   "source": [
    "### CNN to discriminate 1 and 2 particles event"
   ]
  },
  {
   "cell_type": "code",
   "execution_count": 1,
   "id": "4e2c97c6-bc53-47d5-b419-7ec29846baff",
   "metadata": {},
   "outputs": [],
   "source": [
    "import numpy as np\n",
    "import pandas as pd\n",
    "import matplotlib.pyplot as plt\n",
    "\n",
    "%matplotlib inline"
   ]
  },
  {
   "cell_type": "markdown",
   "id": "e22ad964-a9b8-4646-9438-f0ff864437b9",
   "metadata": {},
   "source": [
    "**Data Structure**"
   ]
  },
  {
   "cell_type": "code",
   "execution_count": 2,
   "id": "697f1746-cd6d-4a96-be10-5eca813cb10d",
   "metadata": {
    "tags": []
   },
   "outputs": [],
   "source": [
    "path='/nfs/pic.es/user/m/mrodrigu/common/CNN_discriminate_1-2_particles/CNN_bulding/input.csv'"
   ]
  },
  {
   "cell_type": "code",
   "execution_count": 3,
   "id": "2d4b276a-73e9-44b4-9932-8718dbb59a1f",
   "metadata": {
    "tags": []
   },
   "outputs": [],
   "source": [
    "input_paths=pd.read_csv(path)"
   ]
  },
  {
   "cell_type": "code",
   "execution_count": 4,
   "id": "9e018e06-c433-4b81-8a9b-568896968ec2",
   "metadata": {
    "tags": []
   },
   "outputs": [
    {
     "data": {
      "text/html": [
       "<div>\n",
       "<style scoped>\n",
       "    .dataframe tbody tr th:only-of-type {\n",
       "        vertical-align: middle;\n",
       "    }\n",
       "\n",
       "    .dataframe tbody tr th {\n",
       "        vertical-align: top;\n",
       "    }\n",
       "\n",
       "    .dataframe thead th {\n",
       "        text-align: right;\n",
       "    }\n",
       "</style>\n",
       "<table border=\"1\" class=\"dataframe\">\n",
       "  <thead>\n",
       "    <tr style=\"text-align: right;\">\n",
       "      <th></th>\n",
       "      <th>event</th>\n",
       "      <th>nhits</th>\n",
       "      <th>[row, col, qmax, tmax]</th>\n",
       "      <th>npart</th>\n",
       "    </tr>\n",
       "  </thead>\n",
       "  <tbody>\n",
       "    <tr>\n",
       "      <th>0</th>\n",
       "      <td>5893</td>\n",
       "      <td>186</td>\n",
       "      <td>[[39, 125, 286, 156], [38, 125, 370, 106], [37...</td>\n",
       "      <td>1</td>\n",
       "    </tr>\n",
       "    <tr>\n",
       "      <th>1</th>\n",
       "      <td>8337</td>\n",
       "      <td>318</td>\n",
       "      <td>[[59, 35, 1051, 342], [59, 34, 800, 343], [59,...</td>\n",
       "      <td>2</td>\n",
       "    </tr>\n",
       "    <tr>\n",
       "      <th>2</th>\n",
       "      <td>7457</td>\n",
       "      <td>379</td>\n",
       "      <td>[[56, 26, 294, 364], [57, 26, 292, 345], [57, ...</td>\n",
       "      <td>2</td>\n",
       "    </tr>\n",
       "    <tr>\n",
       "      <th>3</th>\n",
       "      <td>8259</td>\n",
       "      <td>286</td>\n",
       "      <td>[[32, 62, 1374, 119], [33, 62, 335, 148], [41,...</td>\n",
       "      <td>1</td>\n",
       "    </tr>\n",
       "    <tr>\n",
       "      <th>4</th>\n",
       "      <td>576</td>\n",
       "      <td>224</td>\n",
       "      <td>[[37, 89, 326, 71], [36, 88, 308, 81], [36, 89...</td>\n",
       "      <td>1</td>\n",
       "    </tr>\n",
       "    <tr>\n",
       "      <th>...</th>\n",
       "      <td>...</td>\n",
       "      <td>...</td>\n",
       "      <td>...</td>\n",
       "      <td>...</td>\n",
       "    </tr>\n",
       "    <tr>\n",
       "      <th>19993</th>\n",
       "      <td>8691</td>\n",
       "      <td>371</td>\n",
       "      <td>[[36, 61, 294, 123], [36, 62, 852, 76], [37, 6...</td>\n",
       "      <td>1</td>\n",
       "    </tr>\n",
       "    <tr>\n",
       "      <th>19994</th>\n",
       "      <td>7606</td>\n",
       "      <td>361</td>\n",
       "      <td>[[56, 49, 376, 353], [56, 50, 904, 345], [56, ...</td>\n",
       "      <td>2</td>\n",
       "    </tr>\n",
       "    <tr>\n",
       "      <th>19995</th>\n",
       "      <td>8464</td>\n",
       "      <td>210</td>\n",
       "      <td>[[36, 60, 287, 177], [36, 61, 424, 120], [36, ...</td>\n",
       "      <td>1</td>\n",
       "    </tr>\n",
       "    <tr>\n",
       "      <th>19996</th>\n",
       "      <td>7720</td>\n",
       "      <td>208</td>\n",
       "      <td>[[36, 88, 291, 192], [36, 89, 375, 94], [35, 8...</td>\n",
       "      <td>1</td>\n",
       "    </tr>\n",
       "    <tr>\n",
       "      <th>19997</th>\n",
       "      <td>8827</td>\n",
       "      <td>415</td>\n",
       "      <td>[[59, 61, 504, 327], [59, 62, 294, 365], [58, ...</td>\n",
       "      <td>2</td>\n",
       "    </tr>\n",
       "  </tbody>\n",
       "</table>\n",
       "<p>19998 rows × 4 columns</p>\n",
       "</div>"
      ],
      "text/plain": [
       "       event  nhits                             [row, col, qmax, tmax]  npart\n",
       "0       5893    186  [[39, 125, 286, 156], [38, 125, 370, 106], [37...      1\n",
       "1       8337    318  [[59, 35, 1051, 342], [59, 34, 800, 343], [59,...      2\n",
       "2       7457    379  [[56, 26, 294, 364], [57, 26, 292, 345], [57, ...      2\n",
       "3       8259    286  [[32, 62, 1374, 119], [33, 62, 335, 148], [41,...      1\n",
       "4        576    224  [[37, 89, 326, 71], [36, 88, 308, 81], [36, 89...      1\n",
       "...      ...    ...                                                ...    ...\n",
       "19993   8691    371  [[36, 61, 294, 123], [36, 62, 852, 76], [37, 6...      1\n",
       "19994   7606    361  [[56, 49, 376, 353], [56, 50, 904, 345], [56, ...      2\n",
       "19995   8464    210  [[36, 60, 287, 177], [36, 61, 424, 120], [36, ...      1\n",
       "19996   7720    208  [[36, 88, 291, 192], [36, 89, 375, 94], [35, 8...      1\n",
       "19997   8827    415  [[59, 61, 504, 327], [59, 62, 294, 365], [58, ...      2\n",
       "\n",
       "[19998 rows x 4 columns]"
      ]
     },
     "execution_count": 4,
     "metadata": {},
     "output_type": "execute_result"
    }
   ],
   "source": [
    "input_paths"
   ]
  },
  {
   "cell_type": "code",
   "execution_count": 5,
   "id": "c5127f9e-80d5-4785-90fa-00d3025148ef",
   "metadata": {
    "tags": []
   },
   "outputs": [],
   "source": [
    "def parse_list_column(column):\n",
    "    try:\n",
    "        return eval(column)\n",
    "    except:\n",
    "        return []\n",
    "\n",
    "input_paths['[row, col, qmax, tmax]'] = input_paths['[row, col, qmax, tmax]'].apply(parse_list_column)\n",
    "\n",
    "data_list = input_paths['[row, col, qmax, tmax]'].tolist()"
   ]
  },
  {
   "cell_type": "markdown",
   "id": "6ef4faf1-c85c-497c-9439-75297a61b642",
   "metadata": {},
   "source": [
    "These are the types of images we want CNN to differentiate:"
   ]
  },
  {
   "cell_type": "markdown",
   "id": "42e7e14c-8eab-4726-b478-c20919a3adc9",
   "metadata": {},
   "source": [
    "- 1 particle event:"
   ]
  },
  {
   "cell_type": "code",
   "execution_count": 6,
   "id": "c72cbbcf-f3b2-473f-a5f7-b02058e225e3",
   "metadata": {
    "tags": []
   },
   "outputs": [
    {
     "data": {
      "image/png": "[encoded data removed]",
      "text/plain": [
       "<Figure size 640x480 with 1 Axes>"
      ]
     },
     "metadata": {},
     "output_type": "display_data"
    }
   ],
   "source": [
    "matrix= np.zeros((64, 144))\n",
    "for array in input_paths.at[0, '[row, col, qmax, tmax]']:\n",
    "    row, col, qmax, tmax = array\n",
    "    matrix[row][col] = tmax\n",
    "\n",
    "plt.imshow(matrix, cmap='Greys', origin='lower')  \n",
    "plt.gca().set_xticks([])\n",
    "plt.gca().set_yticks([])\n",
    "plt.xlabel('col')  \n",
    "plt.ylabel('row')  \n",
    "plt.show()"
   ]
  },
  {
   "cell_type": "markdown",
   "id": "510400c3-9642-4751-a4fc-8d5d3096a6f3",
   "metadata": {},
   "source": [
    "- 2 particle event:"
   ]
  },
  {
   "cell_type": "code",
   "execution_count": 7,
   "id": "4e58f7ec-e889-4249-a64d-dfcd51ba5d97",
   "metadata": {},
   "outputs": [
    {
     "data": {
      "image/png": "[encoded data removed]",
      "text/plain": [
       "<Figure size 640x480 with 1 Axes>"
      ]
     },
     "metadata": {},
     "output_type": "display_data"
    }
   ],
   "source": [
    "matrix= np.zeros((64, 144))\n",
    "for array in input_paths.at[2, '[row, col, qmax, tmax]']:\n",
    "    row, col, qmax, tmax = array\n",
    "    matrix[row][col] = tmax\n",
    "\n",
    "plt.imshow(matrix, cmap='Greys', origin='lower')  \n",
    "plt.gca().set_xticks([])\n",
    "plt.gca().set_yticks([])\n",
    "plt.xlabel('col')  \n",
    "plt.ylabel('row')  \n",
    "plt.show()"
   ]
  },
  {
   "cell_type": "markdown",
   "id": "4be9a6c5-3fd1-4fd9-afe5-300c8c935444",
   "metadata": {},
   "source": [
    "Number of data we have in the dataframe:"
   ]
  },
  {
   "cell_type": "code",
   "execution_count": 8,
   "id": "deb6ce4d-e637-4e1a-99ad-247ebfaa510f",
   "metadata": {
    "tags": []
   },
   "outputs": [
    {
     "data": {
      "text/plain": [
       "19998"
      ]
     },
     "execution_count": 8,
     "metadata": {},
     "output_type": "execute_result"
    }
   ],
   "source": [
    "n_events=len(input_paths)\n",
    "n_events"
   ]
  },
  {
   "cell_type": "markdown",
   "id": "0e6f1a13-3026-4217-b7f5-939d046cfa18",
   "metadata": {},
   "source": [
    "The data is divided into training data (70%) and test data (30%):"
   ]
  },
  {
   "cell_type": "code",
   "execution_count": 9,
   "id": "9bf9eaef-e80f-40ab-945e-71973d9db695",
   "metadata": {
    "tags": []
   },
   "outputs": [],
   "source": [
    "training_data = input_paths.iloc[:13999]\n",
    "test_data = input_paths.iloc[13999+ 1:]"
   ]
  },
  {
   "cell_type": "markdown",
   "id": "41aa20ca-e415-4804-b93c-3f776733d1f1",
   "metadata": {},
   "source": [
    "- Training Data:"
   ]
  },
  {
   "cell_type": "code",
   "execution_count": 10,
   "id": "e4ccf70d-a027-4267-8594-24358ca4617e",
   "metadata": {
    "tags": []
   },
   "outputs": [
    {
     "data": {
      "text/html": [
       "<div>\n",
       "<style scoped>\n",
       "    .dataframe tbody tr th:only-of-type {\n",
       "        vertical-align: middle;\n",
       "    }\n",
       "\n",
       "    .dataframe tbody tr th {\n",
       "        vertical-align: top;\n",
       "    }\n",
       "\n",
       "    .dataframe thead th {\n",
       "        text-align: right;\n",
       "    }\n",
       "</style>\n",
       "<table border=\"1\" class=\"dataframe\">\n",
       "  <thead>\n",
       "    <tr style=\"text-align: right;\">\n",
       "      <th></th>\n",
       "      <th>event</th>\n",
       "      <th>nhits</th>\n",
       "      <th>[row, col, qmax, tmax]</th>\n",
       "      <th>npart</th>\n",
       "    </tr>\n",
       "  </thead>\n",
       "  <tbody>\n",
       "    <tr>\n",
       "      <th>0</th>\n",
       "      <td>5893</td>\n",
       "      <td>186</td>\n",
       "      <td>[[39, 125, 286, 156], [38, 125, 370, 106], [37...</td>\n",
       "      <td>1</td>\n",
       "    </tr>\n",
       "    <tr>\n",
       "      <th>1</th>\n",
       "      <td>8337</td>\n",
       "      <td>318</td>\n",
       "      <td>[[59, 35, 1051, 342], [59, 34, 800, 343], [59,...</td>\n",
       "      <td>2</td>\n",
       "    </tr>\n",
       "    <tr>\n",
       "      <th>2</th>\n",
       "      <td>7457</td>\n",
       "      <td>379</td>\n",
       "      <td>[[56, 26, 294, 364], [57, 26, 292, 345], [57, ...</td>\n",
       "      <td>2</td>\n",
       "    </tr>\n",
       "    <tr>\n",
       "      <th>3</th>\n",
       "      <td>8259</td>\n",
       "      <td>286</td>\n",
       "      <td>[[32, 62, 1374, 119], [33, 62, 335, 148], [41,...</td>\n",
       "      <td>1</td>\n",
       "    </tr>\n",
       "    <tr>\n",
       "      <th>4</th>\n",
       "      <td>576</td>\n",
       "      <td>224</td>\n",
       "      <td>[[37, 89, 326, 71], [36, 88, 308, 81], [36, 89...</td>\n",
       "      <td>1</td>\n",
       "    </tr>\n",
       "    <tr>\n",
       "      <th>...</th>\n",
       "      <td>...</td>\n",
       "      <td>...</td>\n",
       "      <td>...</td>\n",
       "      <td>...</td>\n",
       "    </tr>\n",
       "    <tr>\n",
       "      <th>13994</th>\n",
       "      <td>8496</td>\n",
       "      <td>214</td>\n",
       "      <td>[[38, 70, 290, 113], [38, 71, 616, 74], [37, 6...</td>\n",
       "      <td>1</td>\n",
       "    </tr>\n",
       "    <tr>\n",
       "      <th>13995</th>\n",
       "      <td>8836</td>\n",
       "      <td>204</td>\n",
       "      <td>[[38, 70, 343, 90], [38, 71, 497, 76], [37, 69...</td>\n",
       "      <td>1</td>\n",
       "    </tr>\n",
       "    <tr>\n",
       "      <th>13996</th>\n",
       "      <td>6455</td>\n",
       "      <td>357</td>\n",
       "      <td>[[45, 53, 290, 393], [44, 53, 291, 345], [43, ...</td>\n",
       "      <td>2</td>\n",
       "    </tr>\n",
       "    <tr>\n",
       "      <th>13997</th>\n",
       "      <td>2414</td>\n",
       "      <td>206</td>\n",
       "      <td>[[32, 61, 544, 60], [32, 62, 461, 65], [33, 61...</td>\n",
       "      <td>1</td>\n",
       "    </tr>\n",
       "    <tr>\n",
       "      <th>13998</th>\n",
       "      <td>9440</td>\n",
       "      <td>400</td>\n",
       "      <td>[[59, 31, 322, 298], [59, 30, 646, 291], [58, ...</td>\n",
       "      <td>2</td>\n",
       "    </tr>\n",
       "  </tbody>\n",
       "</table>\n",
       "<p>13999 rows × 4 columns</p>\n",
       "</div>"
      ],
      "text/plain": [
       "       event  nhits                             [row, col, qmax, tmax]  npart\n",
       "0       5893    186  [[39, 125, 286, 156], [38, 125, 370, 106], [37...      1\n",
       "1       8337    318  [[59, 35, 1051, 342], [59, 34, 800, 343], [59,...      2\n",
       "2       7457    379  [[56, 26, 294, 364], [57, 26, 292, 345], [57, ...      2\n",
       "3       8259    286  [[32, 62, 1374, 119], [33, 62, 335, 148], [41,...      1\n",
       "4        576    224  [[37, 89, 326, 71], [36, 88, 308, 81], [36, 89...      1\n",
       "...      ...    ...                                                ...    ...\n",
       "13994   8496    214  [[38, 70, 290, 113], [38, 71, 616, 74], [37, 6...      1\n",
       "13995   8836    204  [[38, 70, 343, 90], [38, 71, 497, 76], [37, 69...      1\n",
       "13996   6455    357  [[45, 53, 290, 393], [44, 53, 291, 345], [43, ...      2\n",
       "13997   2414    206  [[32, 61, 544, 60], [32, 62, 461, 65], [33, 61...      1\n",
       "13998   9440    400  [[59, 31, 322, 298], [59, 30, 646, 291], [58, ...      2\n",
       "\n",
       "[13999 rows x 4 columns]"
      ]
     },
     "execution_count": 10,
     "metadata": {},
     "output_type": "execute_result"
    }
   ],
   "source": [
    "training_data"
   ]
  },
  {
   "cell_type": "markdown",
   "id": "0451ce50-db18-4d01-b713-aa326940191e",
   "metadata": {},
   "source": [
    "- Test Data:"
   ]
  },
  {
   "cell_type": "code",
   "execution_count": 11,
   "id": "394e2d4c-8326-475a-9d8d-18da58887c34",
   "metadata": {
    "tags": []
   },
   "outputs": [],
   "source": [
    "test_data.reset_index(drop=True, inplace=True)"
   ]
  },
  {
   "cell_type": "code",
   "execution_count": 12,
   "id": "6fbf0dd4-e525-4478-b440-d60225078a36",
   "metadata": {
    "tags": []
   },
   "outputs": [
    {
     "data": {
      "text/html": [
       "<div>\n",
       "<style scoped>\n",
       "    .dataframe tbody tr th:only-of-type {\n",
       "        vertical-align: middle;\n",
       "    }\n",
       "\n",
       "    .dataframe tbody tr th {\n",
       "        vertical-align: top;\n",
       "    }\n",
       "\n",
       "    .dataframe thead th {\n",
       "        text-align: right;\n",
       "    }\n",
       "</style>\n",
       "<table border=\"1\" class=\"dataframe\">\n",
       "  <thead>\n",
       "    <tr style=\"text-align: right;\">\n",
       "      <th></th>\n",
       "      <th>event</th>\n",
       "      <th>nhits</th>\n",
       "      <th>[row, col, qmax, tmax]</th>\n",
       "      <th>npart</th>\n",
       "    </tr>\n",
       "  </thead>\n",
       "  <tbody>\n",
       "    <tr>\n",
       "      <th>0</th>\n",
       "      <td>8163</td>\n",
       "      <td>362</td>\n",
       "      <td>[[56, 69, 291, 327], [56, 70, 744, 287], [56, ...</td>\n",
       "      <td>2</td>\n",
       "    </tr>\n",
       "    <tr>\n",
       "      <th>1</th>\n",
       "      <td>8556</td>\n",
       "      <td>155</td>\n",
       "      <td>[[36, 132, 329, 108], [36, 133, 1412, 90], [36...</td>\n",
       "      <td>1</td>\n",
       "    </tr>\n",
       "    <tr>\n",
       "      <th>2</th>\n",
       "      <td>2970</td>\n",
       "      <td>219</td>\n",
       "      <td>[[32, 96, 290, 151], [32, 97, 812, 91], [32, 9...</td>\n",
       "      <td>1</td>\n",
       "    </tr>\n",
       "    <tr>\n",
       "      <th>3</th>\n",
       "      <td>8680</td>\n",
       "      <td>356</td>\n",
       "      <td>[[56, 30, 565, 329], [56, 31, 336, 333], [57, ...</td>\n",
       "      <td>2</td>\n",
       "    </tr>\n",
       "    <tr>\n",
       "      <th>4</th>\n",
       "      <td>7867</td>\n",
       "      <td>234</td>\n",
       "      <td>[[36, 61, 294, 95], [36, 62, 490, 75], [37, 62...</td>\n",
       "      <td>1</td>\n",
       "    </tr>\n",
       "    <tr>\n",
       "      <th>...</th>\n",
       "      <td>...</td>\n",
       "      <td>...</td>\n",
       "      <td>...</td>\n",
       "      <td>...</td>\n",
       "    </tr>\n",
       "    <tr>\n",
       "      <th>5993</th>\n",
       "      <td>8691</td>\n",
       "      <td>371</td>\n",
       "      <td>[[36, 61, 294, 123], [36, 62, 852, 76], [37, 6...</td>\n",
       "      <td>1</td>\n",
       "    </tr>\n",
       "    <tr>\n",
       "      <th>5994</th>\n",
       "      <td>7606</td>\n",
       "      <td>361</td>\n",
       "      <td>[[56, 49, 376, 353], [56, 50, 904, 345], [56, ...</td>\n",
       "      <td>2</td>\n",
       "    </tr>\n",
       "    <tr>\n",
       "      <th>5995</th>\n",
       "      <td>8464</td>\n",
       "      <td>210</td>\n",
       "      <td>[[36, 60, 287, 177], [36, 61, 424, 120], [36, ...</td>\n",
       "      <td>1</td>\n",
       "    </tr>\n",
       "    <tr>\n",
       "      <th>5996</th>\n",
       "      <td>7720</td>\n",
       "      <td>208</td>\n",
       "      <td>[[36, 88, 291, 192], [36, 89, 375, 94], [35, 8...</td>\n",
       "      <td>1</td>\n",
       "    </tr>\n",
       "    <tr>\n",
       "      <th>5997</th>\n",
       "      <td>8827</td>\n",
       "      <td>415</td>\n",
       "      <td>[[59, 61, 504, 327], [59, 62, 294, 365], [58, ...</td>\n",
       "      <td>2</td>\n",
       "    </tr>\n",
       "  </tbody>\n",
       "</table>\n",
       "<p>5998 rows × 4 columns</p>\n",
       "</div>"
      ],
      "text/plain": [
       "      event  nhits                             [row, col, qmax, tmax]  npart\n",
       "0      8163    362  [[56, 69, 291, 327], [56, 70, 744, 287], [56, ...      2\n",
       "1      8556    155  [[36, 132, 329, 108], [36, 133, 1412, 90], [36...      1\n",
       "2      2970    219  [[32, 96, 290, 151], [32, 97, 812, 91], [32, 9...      1\n",
       "3      8680    356  [[56, 30, 565, 329], [56, 31, 336, 333], [57, ...      2\n",
       "4      7867    234  [[36, 61, 294, 95], [36, 62, 490, 75], [37, 62...      1\n",
       "...     ...    ...                                                ...    ...\n",
       "5993   8691    371  [[36, 61, 294, 123], [36, 62, 852, 76], [37, 6...      1\n",
       "5994   7606    361  [[56, 49, 376, 353], [56, 50, 904, 345], [56, ...      2\n",
       "5995   8464    210  [[36, 60, 287, 177], [36, 61, 424, 120], [36, ...      1\n",
       "5996   7720    208  [[36, 88, 291, 192], [36, 89, 375, 94], [35, 8...      1\n",
       "5997   8827    415  [[59, 61, 504, 327], [59, 62, 294, 365], [58, ...      2\n",
       "\n",
       "[5998 rows x 4 columns]"
      ]
     },
     "execution_count": 12,
     "metadata": {},
     "output_type": "execute_result"
    }
   ],
   "source": [
    "test_data"
   ]
  },
  {
   "cell_type": "markdown",
   "id": "d284f354-0eeb-43e3-af32-da5e40075d45",
   "metadata": {
    "tags": []
   },
   "source": [
    "**Cleaning Data**"
   ]
  },
  {
   "cell_type": "markdown",
   "id": "924d3f88-fcaf-4d0e-be1d-9f53289ae34b",
   "metadata": {},
   "source": [
    "1) Input (x)"
   ]
  },
  {
   "cell_type": "markdown",
   "id": "95fa1465-4645-48e1-9440-fe2d4fd07e83",
   "metadata": {},
   "source": [
    "A tensor is built with the images input:"
   ]
  },
  {
   "cell_type": "markdown",
   "id": "3d1af829-0736-496d-b807-f4d5df9aaccf",
   "metadata": {},
   "source": [
    "- Training tensor Data:"
   ]
  },
  {
   "cell_type": "code",
   "execution_count": 14,
   "id": "ba02edf7-b260-436e-a9c5-df3539a43b7d",
   "metadata": {
    "tags": []
   },
   "outputs": [],
   "source": [
    "tensor_shape = (len(training_data), 64, 144)  \n",
    "training_data_tensor = np.zeros(tensor_shape)  \n",
    "\n",
    "for i in range(len(training_data)):\n",
    "    matrix = np.zeros((64, 144))\n",
    "    for array in training_data.at[i, '[row, col, qmax, tmax]']:\n",
    "        row, col, qmax, tmax = array\n",
    "        matrix[row][col] = tmax\n",
    "    training_data_tensor[i] = matrix  "
   ]
  },
  {
   "cell_type": "markdown",
   "id": "24164f63-1f59-43f4-8da4-55425f46f9ab",
   "metadata": {},
   "source": [
    "Dimensions of the Training tensor Data (nº of images, row, col):"
   ]
  },
  {
   "cell_type": "code",
   "execution_count": 15,
   "id": "19e196ff-78ef-4c67-a053-2c23101ded58",
   "metadata": {
    "tags": []
   },
   "outputs": [
    {
     "data": {
      "text/plain": [
       "(13999, 64, 144)"
      ]
     },
     "execution_count": 15,
     "metadata": {},
     "output_type": "execute_result"
    }
   ],
   "source": [
    "training_data_tensor.shape"
   ]
  },
  {
   "cell_type": "code",
   "execution_count": 16,
   "id": "d28e8325-42ba-4ea2-90db-1767ac5b3d22",
   "metadata": {
    "tags": []
   },
   "outputs": [
    {
     "data": {
      "text/plain": [
       "13999"
      ]
     },
     "execution_count": 16,
     "metadata": {},
     "output_type": "execute_result"
    }
   ],
   "source": [
    "n_events_training_tensor=len(training_data)\n",
    "n_events_training_tensor"
   ]
  },
  {
   "cell_type": "code",
   "execution_count": 17,
   "id": "c9d5e38a-9bc0-4c41-8f1d-13aa97b53473",
   "metadata": {
    "tags": []
   },
   "outputs": [],
   "source": [
    "tmax_list = []\n",
    "\n",
    "for i in range(training_data_tensor.shape[0]):\n",
    "    for j in range(training_data_tensor.shape[1]):\n",
    "        for k in range(training_data_tensor.shape[2]):\n",
    "            if training_data_tensor[i, j, k] != 0:\n",
    "                tmax_list.append(training_data_tensor[i, j, k])"
   ]
  },
  {
   "cell_type": "code",
   "execution_count": 18,
   "id": "0d780a71-8239-4e49-bef3-57a5b2950461",
   "metadata": {
    "tags": []
   },
   "outputs": [
    {
     "data": {
      "image/png": "[encoded data removed]",
      "text/plain": [
       "<Figure size 640x480 with 1 Axes>"
      ]
     },
     "metadata": {},
     "output_type": "display_data"
    }
   ],
   "source": [
    "num_inputs= len(tmax_list)\n",
    "\n",
    "plt.hist(tmax_list, bins=100) \n",
    "\n",
    "plt.xlabel('tmax value')\n",
    "plt.ylabel('Frequence')\n",
    "plt.title('tmax in training_tensor Histogram')\n",
    "legend_label= f'Nº inputs: {num_inputs}'\n",
    "plt.legend([legend_label])\n",
    "\n",
    "plt.show()"
   ]
  },
  {
   "cell_type": "markdown",
   "id": "17d286ab-3e91-4d71-a3a1-def2182d7b0c",
   "metadata": {},
   "source": [
    "- Test tensor Data:"
   ]
  },
  {
   "cell_type": "code",
   "execution_count": 19,
   "id": "388c089b-b63f-4d7b-b791-61d2d1eb2f10",
   "metadata": {
    "tags": []
   },
   "outputs": [],
   "source": [
    "tensor_shape_2 = (len(test_data), 64, 144)  \n",
    "test_data_tensor = np.zeros(tensor_shape_2)  \n",
    "tmax_array=[]\n",
    "\n",
    "for i in range(len(test_data)):\n",
    "    matrix = np.zeros((64, 144))\n",
    "    for array in test_data.at[i, '[row, col, qmax, tmax]']:\n",
    "        row, col, qmax, tmax = array\n",
    "        matrix[row][col] = tmax\n",
    "        tmax_array.append(tmax)\n",
    "    test_data_tensor[i] = matrix  "
   ]
  },
  {
   "cell_type": "markdown",
   "id": "0d13d5e0-6763-4524-9d80-2e8e59031f4c",
   "metadata": {},
   "source": [
    "Dimensions of the Test tensor Data (nº of images, row, col):"
   ]
  },
  {
   "cell_type": "code",
   "execution_count": 30,
   "id": "da267d70-46fb-4970-95e1-d2a56201b606",
   "metadata": {
    "tags": []
   },
   "outputs": [
    {
     "data": {
      "text/plain": [
       "(5998, 64, 144)"
      ]
     },
     "execution_count": 30,
     "metadata": {},
     "output_type": "execute_result"
    }
   ],
   "source": [
    "test_data_tensor.shape"
   ]
  },
  {
   "cell_type": "code",
   "execution_count": 20,
   "id": "8838855a-3006-4989-93a3-be98e20cee41",
   "metadata": {
    "tags": []
   },
   "outputs": [
    {
     "data": {
      "text/plain": [
       "5998"
      ]
     },
     "execution_count": 20,
     "metadata": {},
     "output_type": "execute_result"
    }
   ],
   "source": [
    "n_events_test_tensor=len(test_data)\n",
    "n_events_test_tensor"
   ]
  },
  {
   "cell_type": "code",
   "execution_count": 21,
   "id": "0342631d-5175-4e7a-bbc9-0e321aae2dc8",
   "metadata": {
    "tags": []
   },
   "outputs": [],
   "source": [
    "tmax_list_2 = []\n",
    "\n",
    "for i in range(test_data_tensor.shape[0]):\n",
    "    for j in range(test_data_tensor.shape[1]):\n",
    "        for k in range(test_data_tensor.shape[2]):\n",
    "            if test_data_tensor[i, j, k] != 0:\n",
    "                tmax_list_2.append(test_data_tensor[i, j, k])"
   ]
  },
  {
   "cell_type": "code",
   "execution_count": 23,
   "id": "8d43cf09-50bc-49fb-8060-363aed4c0242",
   "metadata": {
    "tags": []
   },
   "outputs": [
    {
     "data": {
      "image/png": "[encoded data removed]",
      "text/plain": [
       "<Figure size 640x480 with 1 Axes>"
      ]
     },
     "metadata": {},
     "output_type": "display_data"
    }
   ],
   "source": [
    "num_inputs= len(tmax_list_2)\n",
    "\n",
    "plt.hist(tmax_list_2, bins=100) \n",
    "\n",
    "plt.xlabel('tmax value')\n",
    "plt.ylabel('Frequence')\n",
    "plt.title('tmax in test_tensor Histogram')\n",
    "legend_label= f'Nº inputs: {num_inputs}'\n",
    "plt.legend([legend_label])\n",
    "\n",
    "plt.show()"
   ]
  },
  {
   "cell_type": "markdown",
   "id": "5555de0c-8b4f-4c61-9db1-f2ad9c0f85f9",
   "metadata": {},
   "source": [
    "- Tensor Reshape:"
   ]
  },
  {
   "cell_type": "markdown",
   "id": "70221bb5-bd39-4aa0-9318-922b05c732d1",
   "metadata": {},
   "source": [
    "A dimension referring to the color channel of the images (1 for gray, 3 for RGB) is added to the tensors:"
   ]
  },
  {
   "cell_type": "code",
   "execution_count": 24,
   "id": "b734d4db-1cd4-4066-9a14-8a5c562d0eb4",
   "metadata": {
    "tags": []
   },
   "outputs": [],
   "source": [
    "x_train = training_data_tensor.reshape(len(training_data), 64, 144, 1) #nº images, row, col, nº channel colors (1 for grey, 3 for RGB)\n",
    "x_test = test_data_tensor.reshape(len(test_data), 64, 144, 1)\n",
    "\n",
    "x_train = x_train.astype('float32')\n",
    "x_test = x_test.astype('float32')\n",
    "\n",
    "x_train /= 255\n",
    "x_test /= 255"
   ]
  },
  {
   "cell_type": "markdown",
   "id": "829f8519-7fbc-4f7f-86ef-0c0621edec35",
   "metadata": {},
   "source": [
    "Dimensions of the input:"
   ]
  },
  {
   "cell_type": "code",
   "execution_count": 25,
   "id": "1838e0d1-4b3e-4fa9-899c-abfac168200d",
   "metadata": {
    "tags": []
   },
   "outputs": [
    {
     "data": {
      "text/plain": [
       "((13999, 64, 144, 1), (5998, 64, 144, 1))"
      ]
     },
     "execution_count": 25,
     "metadata": {},
     "output_type": "execute_result"
    }
   ],
   "source": [
    "x_train.shape, x_test.shape"
   ]
  },
  {
   "cell_type": "markdown",
   "id": "1105d3a4-0e8e-4b0d-930f-e7e38499d939",
   "metadata": {
    "tags": []
   },
   "source": [
    "2) Output (y)"
   ]
  },
  {
   "cell_type": "code",
   "execution_count": 26,
   "id": "639786a6-d35b-485a-a8b0-9db8e840770f",
   "metadata": {
    "tags": []
   },
   "outputs": [],
   "source": [
    "y_train=training_data['npart'].to_numpy()\n",
    "y_test=test_data['npart'].to_numpy()"
   ]
  },
  {
   "cell_type": "markdown",
   "id": "0dbce1fe-6cbf-47e0-aca0-87f718457f14",
   "metadata": {},
   "source": [
    "There are two classes (1 and 2 particles), to use the CNN we have to convert 1 to 0, and 2 to 1:"
   ]
  },
  {
   "cell_type": "code",
   "execution_count": 27,
   "id": "e470f471-5c6e-4643-a85e-d404217bac5d",
   "metadata": {
    "tags": []
   },
   "outputs": [],
   "source": [
    "y_train-=1\n",
    "y_test-=1"
   ]
  },
  {
   "cell_type": "markdown",
   "id": "551793c4-f6c1-4b03-b447-e3693c58c2b7",
   "metadata": {},
   "source": [
    "Convert the dependent variable in the form of integers to a binary class matrix."
   ]
  },
  {
   "cell_type": "code",
   "execution_count": 28,
   "id": "6d86d8ae-1958-46a8-8121-c7433ee139bf",
   "metadata": {
    "tags": []
   },
   "outputs": [
    {
     "name": "stderr",
     "output_type": "stream",
     "text": [
      "2023-09-17 12:50:53.484541: I tensorflow/core/util/port.cc:110] oneDNN custom operations are on. You may see slightly different numerical results due to floating-point round-off errors from different computation orders. To turn them off, set the environment variable `TF_ENABLE_ONEDNN_OPTS=0`.\n",
      "2023-09-17 12:50:55.604532: I tensorflow/core/platform/cpu_feature_guard.cc:182] This TensorFlow binary is optimized to use available CPU instructions in performance-critical operations.\n",
      "To enable the following instructions: AVX2 AVX512F AVX512_VNNI FMA, in other operations, rebuild TensorFlow with the appropriate compiler flags.\n",
      "2023-09-17 12:51:00.174397: W tensorflow/compiler/tf2tensorrt/utils/py_utils.cc:38] TF-TRT Warning: Could not find TensorRT\n"
     ]
    }
   ],
   "source": [
    "from keras.utils import to_categorical\n",
    "num_classes = 2\n",
    "\n",
    "y_train = to_categorical(y_train, num_classes)\n",
    "y_test = to_categorical(y_test, num_classes)"
   ]
  },
  {
   "cell_type": "markdown",
   "id": "7c626928-3e70-4e11-bd3a-7820b621ecfd",
   "metadata": {},
   "source": [
    "Dimensions of the output:"
   ]
  },
  {
   "cell_type": "code",
   "execution_count": 29,
   "id": "34c3a69c-1f67-48e7-9ab1-0e5e3126dd5e",
   "metadata": {
    "tags": []
   },
   "outputs": [
    {
     "data": {
      "text/plain": [
       "((13999, 2), (5998, 2))"
      ]
     },
     "execution_count": 29,
     "metadata": {},
     "output_type": "execute_result"
    }
   ],
   "source": [
    "y_train.shape, y_test.shape"
   ]
  },
  {
   "cell_type": "markdown",
   "id": "7eb4ccb5-fde6-44e3-b16b-a9599b451891",
   "metadata": {},
   "source": [
    "**Design Model**"
   ]
  },
  {
   "cell_type": "markdown",
   "id": "a8cd5420-a173-4d10-8f64-785fcb7d6639",
   "metadata": {},
   "source": [
    "The first step is to add a convolutional layer, which takes the input image:"
   ]
  },
  {
   "cell_type": "code",
   "execution_count": 30,
   "id": "5fd0e9bd-791c-4714-bb67-da4e3ae34d9d",
   "metadata": {
    "tags": []
   },
   "outputs": [
    {
     "name": "stderr",
     "output_type": "stream",
     "text": [
      "2023-09-17 12:51:28.626023: W tensorflow/core/common_runtime/gpu/gpu_device.cc:1960] Cannot dlopen some GPU libraries. Please make sure the missing libraries mentioned above are installed properly if you would like to use GPU. Follow the guide at https://www.tensorflow.org/install/gpu for how to download and setup the required libraries for your platform.\n",
      "Skipping registering GPU devices...\n"
     ]
    }
   ],
   "source": [
    "from keras.models import Sequential\n",
    "from keras.layers import Dense, Dropout, Flatten, Conv2D, MaxPooling2D\n",
    "\n",
    "model = Sequential()  # creating the model\n",
    "model.add(Conv2D(32, kernel_size=(3, 3),  # nº filters=32, kernel size=(3,3)\n",
    "     activation='relu', #activation function= ReLU\n",
    "     input_shape=(64, 144, 1))) # this specifies the way images are input to the layer, dimensions of the input=(row, col, channel input)\n"
   ]
  },
  {
   "cell_type": "markdown",
   "id": "7eca92c5-ae2f-4651-b0c7-bc1f4be3e4ca",
   "metadata": {},
   "source": [
    "(A relu activation stands for “Rectified Linear Units”, which takes the max of a value or zero).   \n",
    "   \n",
    "Next, we add another convolutional layer, followed by a pooling layer:"
   ]
  },
  {
   "cell_type": "code",
   "execution_count": 31,
   "id": "8263ab29-a678-4831-9cad-2e02bd7e14a9",
   "metadata": {
    "tags": []
   },
   "outputs": [],
   "source": [
    "model.add(Conv2D(64, (3, 3), activation='relu')) # convolutional layer\n",
    "model.add(MaxPooling2D(pool_size=(2, 2))) # pooling layer"
   ]
  },
  {
   "cell_type": "markdown",
   "id": "d19a3d52-3d67-4d41-89bc-8ed1b8423208",
   "metadata": {},
   "source": [
    "Next, we add a “dropout” layer. While neural networks are trained on huge datasets, a problem of overfitting may occur. To avoid this issue, we randomly drop units and their connections during the training process. In this case, we’ll drop 25% of the units:"
   ]
  },
  {
   "cell_type": "code",
   "execution_count": 69,
   "id": "688b5495-6b30-4c02-8967-8dd23393fb1d",
   "metadata": {
    "tags": []
   },
   "outputs": [],
   "source": [
    "#model.add(Dropout(0.25))"
   ]
  },
  {
   "cell_type": "markdown",
   "id": "152a77df-de33-4380-af54-cf8b8374b254",
   "metadata": {},
   "source": [
    "Next, we add a flattening layer to convert the previous hidden layer into a 1D array:"
   ]
  },
  {
   "cell_type": "code",
   "execution_count": 32,
   "id": "e83e7863-7953-4baa-8261-aff634a380c4",
   "metadata": {
    "tags": []
   },
   "outputs": [],
   "source": [
    "model.add(Flatten())"
   ]
  },
  {
   "cell_type": "markdown",
   "id": "95d4fc80-f9c9-453d-ad64-ae290e02b8a5",
   "metadata": {
    "tags": []
   },
   "source": [
    "Once we’ve flattened the data into a 1D array, we can add a dense hidden layer, which is normal for a traditional neural network. Next, add another dropout layer before adding a final dense layer which classifies the data:"
   ]
  },
  {
   "cell_type": "code",
   "execution_count": 33,
   "id": "24a89970-cfe2-49df-b25f-f5f8e4404e9b",
   "metadata": {
    "tags": []
   },
   "outputs": [],
   "source": [
    "model.add(Dense(128, activation='relu')) # dense refers to a completely connected layer\n",
    "#model.add(Dropout(0.5))\n",
    "model.add(Dense(num_classes, activation='relu')) # softmax or relu"
   ]
  },
  {
   "cell_type": "markdown",
   "id": "85c9e379-bd51-4c37-bb95-5909125f3933",
   "metadata": {},
   "source": [
    "The softmax activation is used when we’d like to classify the data into a number of pre-decided classes."
   ]
  },
  {
   "cell_type": "markdown",
   "id": "4c2ce509-8c48-4e82-b553-455f99d7e50d",
   "metadata": {},
   "source": [
    "**Compile and Train Model**"
   ]
  },
  {
   "cell_type": "markdown",
   "id": "a8b4a26f-85b7-4b48-92f6-8a689d0f9fa7",
   "metadata": {},
   "source": [
    "In the model design process, we’ve created an empty model without an objective function. We need to compile the model and specify a loss function, an optimizer function, and a metric to assess model performance."
   ]
  },
  {
   "cell_type": "markdown",
   "id": "3654c0b3-1df3-4d3d-9254-c5e0a80d8b0c",
   "metadata": {},
   "source": [
    "We need to use a sparse_categorical_crossentropy() loss function in case we have an integer-dependent variable. For a vector-based dependent variable like a ten-size array as the output of each test case, use categorical_crossentropy. In this example, we’ll use the adam optimizer. The metric is the basis for the assessment of our model performance, though it’s only for us to judge and isn’t used in the training step:"
   ]
  },
  {
   "cell_type": "code",
   "execution_count": 34,
   "id": "a375b91f-a555-42a1-a18d-aff4ca3d3be2",
   "metadata": {
    "tags": []
   },
   "outputs": [],
   "source": [
    "model.compile(loss='mean_squared_error', #MSE o binary_crossentropy (2 discrimination) (las entradas normalizadas entre 0 y 1)\n",
    "      optimizer='adam',\n",
    "      metrics=['accuracy'])"
   ]
  },
  {
   "cell_type": "markdown",
   "id": "4e99bbe0-dbf6-4a9d-8986-7e73147a9306",
   "metadata": {},
   "source": [
    "We’re now ready to train the model using the .fit() method. We need to specify an epoch and batch size when training the model. An epoch is one forward pass and one backward pass of all training examples. A batch size is the number of training examples in one forward or backward pass."
   ]
  },
  {
   "cell_type": "code",
   "execution_count": 35,
   "id": "6a81795a-1e07-48bc-9405-21e55a6a6f35",
   "metadata": {
    "tags": []
   },
   "outputs": [
    {
     "data": {
      "text/plain": [
       "((13999, 64, 144, 1), (5998, 64, 144, 1))"
      ]
     },
     "execution_count": 35,
     "metadata": {},
     "output_type": "execute_result"
    }
   ],
   "source": [
    "x_train.shape, x_test.shape"
   ]
  },
  {
   "cell_type": "code",
   "execution_count": 36,
   "id": "cfab762f-a0d4-40bd-9d8f-2423eea6a4d8",
   "metadata": {
    "tags": []
   },
   "outputs": [
    {
     "data": {
      "text/plain": [
       "((13999, 2), (5998, 2))"
      ]
     },
     "execution_count": 36,
     "metadata": {},
     "output_type": "execute_result"
    }
   ],
   "source": [
    "y_train.shape, y_test.shape"
   ]
  },
  {
   "cell_type": "code",
   "execution_count": 37,
   "id": "ec849958-940a-4cdb-afb3-1d5b37a03dbd",
   "metadata": {
    "tags": []
   },
   "outputs": [
    {
     "name": "stdout",
     "output_type": "stream",
     "text": [
      "Epoch 1/100\n",
      "110/110 [==============================] - 23s 197ms/step - loss: 0.2197 - accuracy: 0.7616 - val_loss: 0.0053 - val_accuracy: 0.9992\n",
      "Epoch 2/100\n",
      "110/110 [==============================] - 21s 193ms/step - loss: 0.0026 - accuracy: 0.9997 - val_loss: 0.0018 - val_accuracy: 0.9993\n",
      "Epoch 3/100\n",
      "110/110 [==============================] - 22s 196ms/step - loss: 5.5712e-04 - accuracy: 0.9999 - val_loss: 0.0012 - val_accuracy: 0.9993\n",
      "Epoch 4/100\n",
      "110/110 [==============================] - 21s 194ms/step - loss: 1.9638e-04 - accuracy: 1.0000 - val_loss: 9.0318e-04 - val_accuracy: 0.9993\n",
      "Epoch 5/100\n",
      "110/110 [==============================] - 21s 194ms/step - loss: 9.8021e-05 - accuracy: 1.0000 - val_loss: 9.2813e-04 - val_accuracy: 0.9993\n",
      "Epoch 6/100\n",
      "110/110 [==============================] - 21s 195ms/step - loss: 6.4882e-05 - accuracy: 1.0000 - val_loss: 8.6211e-04 - val_accuracy: 0.9993\n",
      "Epoch 7/100\n",
      "110/110 [==============================] - 22s 203ms/step - loss: 5.2336e-05 - accuracy: 1.0000 - val_loss: 8.9218e-04 - val_accuracy: 0.9993\n",
      "Epoch 8/100\n",
      "110/110 [==============================] - 22s 204ms/step - loss: 5.5919e-05 - accuracy: 1.0000 - val_loss: 8.5457e-04 - val_accuracy: 0.9993\n",
      "Epoch 9/100\n",
      "110/110 [==============================] - 23s 206ms/step - loss: 7.9307e-05 - accuracy: 1.0000 - val_loss: 8.8314e-04 - val_accuracy: 0.9993\n",
      "Epoch 10/100\n",
      "110/110 [==============================] - 23s 209ms/step - loss: 7.6168e-05 - accuracy: 1.0000 - val_loss: 9.0071e-04 - val_accuracy: 0.9993\n",
      "Epoch 11/100\n",
      "110/110 [==============================] - 23s 210ms/step - loss: 6.8331e-05 - accuracy: 1.0000 - val_loss: 9.2128e-04 - val_accuracy: 0.9993\n",
      "Epoch 12/100\n",
      "110/110 [==============================] - 23s 208ms/step - loss: 6.2328e-05 - accuracy: 1.0000 - val_loss: 8.7355e-04 - val_accuracy: 0.9993\n",
      "Epoch 13/100\n",
      "110/110 [==============================] - 23s 207ms/step - loss: 2.9704e-05 - accuracy: 1.0000 - val_loss: 8.7021e-04 - val_accuracy: 0.9993\n",
      "Epoch 14/100\n",
      "110/110 [==============================] - 23s 213ms/step - loss: 3.0533e-05 - accuracy: 1.0000 - val_loss: 8.7648e-04 - val_accuracy: 0.9992\n",
      "Epoch 15/100\n",
      "110/110 [==============================] - 23s 208ms/step - loss: 1.9137e-05 - accuracy: 1.0000 - val_loss: 8.7870e-04 - val_accuracy: 0.9993\n",
      "Epoch 16/100\n",
      "110/110 [==============================] - 23s 208ms/step - loss: 2.5245e-05 - accuracy: 1.0000 - val_loss: 8.6160e-04 - val_accuracy: 0.9993\n",
      "Epoch 17/100\n",
      "110/110 [==============================] - 23s 210ms/step - loss: 2.1889e-05 - accuracy: 1.0000 - val_loss: 8.8243e-04 - val_accuracy: 0.9992\n",
      "Epoch 18/100\n",
      "110/110 [==============================] - 23s 208ms/step - loss: 1.8344e-05 - accuracy: 1.0000 - val_loss: 8.8689e-04 - val_accuracy: 0.9992\n",
      "Epoch 19/100\n",
      "110/110 [==============================] - 23s 207ms/step - loss: 4.5894e-05 - accuracy: 1.0000 - val_loss: 9.0925e-04 - val_accuracy: 0.9992\n",
      "Epoch 20/100\n",
      "110/110 [==============================] - 23s 208ms/step - loss: 6.0655e-05 - accuracy: 1.0000 - val_loss: 8.6925e-04 - val_accuracy: 0.9992\n",
      "Epoch 21/100\n",
      "110/110 [==============================] - 23s 207ms/step - loss: 8.3182e-05 - accuracy: 1.0000 - val_loss: 8.7977e-04 - val_accuracy: 0.9992\n",
      "Epoch 22/100\n",
      "110/110 [==============================] - 23s 208ms/step - loss: 8.1522e-05 - accuracy: 1.0000 - val_loss: 8.8300e-04 - val_accuracy: 0.9992\n",
      "Epoch 23/100\n",
      "110/110 [==============================] - 23s 211ms/step - loss: 6.6876e-05 - accuracy: 1.0000 - val_loss: 8.6401e-04 - val_accuracy: 0.9992\n",
      "Epoch 24/100\n",
      "110/110 [==============================] - 23s 209ms/step - loss: 5.2894e-05 - accuracy: 1.0000 - val_loss: 8.8964e-04 - val_accuracy: 0.9992\n",
      "Epoch 25/100\n",
      "110/110 [==============================] - 24s 219ms/step - loss: 1.1494e-04 - accuracy: 1.0000 - val_loss: 9.1529e-04 - val_accuracy: 0.9992\n",
      "Epoch 26/100\n",
      "110/110 [==============================] - 24s 223ms/step - loss: 3.5014e-05 - accuracy: 1.0000 - val_loss: 9.2237e-04 - val_accuracy: 0.9992\n",
      "Epoch 27/100\n",
      "110/110 [==============================] - 24s 215ms/step - loss: 1.8465e-05 - accuracy: 1.0000 - val_loss: 8.6093e-04 - val_accuracy: 0.9992\n",
      "Epoch 28/100\n",
      "110/110 [==============================] - 23s 212ms/step - loss: 9.7951e-06 - accuracy: 1.0000 - val_loss: 8.8474e-04 - val_accuracy: 0.9992\n",
      "Epoch 29/100\n",
      "110/110 [==============================] - 23s 205ms/step - loss: 8.6462e-06 - accuracy: 1.0000 - val_loss: 8.7548e-04 - val_accuracy: 0.9992\n",
      "Epoch 30/100\n",
      "110/110 [==============================] - 23s 209ms/step - loss: 9.9014e-06 - accuracy: 1.0000 - val_loss: 8.7743e-04 - val_accuracy: 0.9992\n",
      "Epoch 31/100\n",
      "110/110 [==============================] - 23s 209ms/step - loss: 7.9770e-06 - accuracy: 1.0000 - val_loss: 8.6593e-04 - val_accuracy: 0.9992\n",
      "Epoch 32/100\n",
      "110/110 [==============================] - 23s 212ms/step - loss: 1.4063e-05 - accuracy: 1.0000 - val_loss: 9.0787e-04 - val_accuracy: 0.9992\n",
      "Epoch 33/100\n",
      "110/110 [==============================] - 23s 207ms/step - loss: 3.9253e-05 - accuracy: 1.0000 - val_loss: 9.4478e-04 - val_accuracy: 0.9992\n",
      "Epoch 34/100\n",
      "110/110 [==============================] - 23s 209ms/step - loss: 6.6571e-05 - accuracy: 1.0000 - val_loss: 8.5517e-04 - val_accuracy: 0.9992\n",
      "Epoch 35/100\n",
      "110/110 [==============================] - 24s 215ms/step - loss: 7.8761e-05 - accuracy: 1.0000 - val_loss: 9.7254e-04 - val_accuracy: 0.9992\n",
      "Epoch 36/100\n",
      "110/110 [==============================] - 23s 209ms/step - loss: 5.9106e-05 - accuracy: 1.0000 - val_loss: 8.7354e-04 - val_accuracy: 0.9992\n",
      "Epoch 37/100\n",
      "110/110 [==============================] - 23s 209ms/step - loss: 5.3858e-05 - accuracy: 1.0000 - val_loss: 8.6362e-04 - val_accuracy: 0.9992\n",
      "Epoch 38/100\n",
      "110/110 [==============================] - 23s 209ms/step - loss: 3.3158e-05 - accuracy: 1.0000 - val_loss: 8.9584e-04 - val_accuracy: 0.9990\n",
      "Epoch 39/100\n",
      "110/110 [==============================] - 23s 211ms/step - loss: 2.2882e-05 - accuracy: 1.0000 - val_loss: 8.5277e-04 - val_accuracy: 0.9992\n",
      "Epoch 40/100\n",
      "110/110 [==============================] - 23s 211ms/step - loss: 1.4463e-05 - accuracy: 1.0000 - val_loss: 9.1078e-04 - val_accuracy: 0.9990\n",
      "Epoch 41/100\n",
      "110/110 [==============================] - 23s 210ms/step - loss: 1.2407e-05 - accuracy: 1.0000 - val_loss: 8.7418e-04 - val_accuracy: 0.9990\n",
      "Epoch 42/100\n",
      "110/110 [==============================] - 23s 212ms/step - loss: 1.8279e-05 - accuracy: 1.0000 - val_loss: 9.4255e-04 - val_accuracy: 0.9990\n",
      "Epoch 43/100\n",
      "110/110 [==============================] - 23s 208ms/step - loss: 1.7588e-05 - accuracy: 1.0000 - val_loss: 9.2969e-04 - val_accuracy: 0.9990\n",
      "Epoch 44/100\n",
      "110/110 [==============================] - 23s 207ms/step - loss: 3.2039e-05 - accuracy: 1.0000 - val_loss: 9.4893e-04 - val_accuracy: 0.9990\n",
      "Epoch 45/100\n",
      "110/110 [==============================] - 23s 206ms/step - loss: 1.9977e-05 - accuracy: 1.0000 - val_loss: 8.6021e-04 - val_accuracy: 0.9990\n",
      "Epoch 46/100\n",
      "110/110 [==============================] - 23s 207ms/step - loss: 1.6230e-05 - accuracy: 1.0000 - val_loss: 8.8893e-04 - val_accuracy: 0.9990\n",
      "Epoch 47/100\n",
      "110/110 [==============================] - 23s 207ms/step - loss: 3.5578e-05 - accuracy: 1.0000 - val_loss: 8.8120e-04 - val_accuracy: 0.9990\n",
      "Epoch 48/100\n",
      "110/110 [==============================] - 23s 207ms/step - loss: 2.1365e-05 - accuracy: 1.0000 - val_loss: 8.8188e-04 - val_accuracy: 0.9990\n",
      "Epoch 49/100\n",
      "110/110 [==============================] - 23s 207ms/step - loss: 1.4916e-05 - accuracy: 1.0000 - val_loss: 8.8553e-04 - val_accuracy: 0.9990\n",
      "Epoch 50/100\n",
      "110/110 [==============================] - 23s 212ms/step - loss: 2.7279e-05 - accuracy: 1.0000 - val_loss: 8.6368e-04 - val_accuracy: 0.9990\n",
      "Epoch 51/100\n",
      "110/110 [==============================] - 24s 215ms/step - loss: 2.0301e-05 - accuracy: 1.0000 - val_loss: 8.5013e-04 - val_accuracy: 0.9990\n",
      "Epoch 52/100\n",
      "110/110 [==============================] - 24s 220ms/step - loss: 1.6994e-05 - accuracy: 1.0000 - val_loss: 8.8034e-04 - val_accuracy: 0.9990\n",
      "Epoch 53/100\n",
      "110/110 [==============================] - 23s 211ms/step - loss: 4.4682e-05 - accuracy: 1.0000 - val_loss: 8.8052e-04 - val_accuracy: 0.9990\n",
      "Epoch 54/100\n",
      "110/110 [==============================] - 23s 208ms/step - loss: 3.4977e-05 - accuracy: 1.0000 - val_loss: 8.6199e-04 - val_accuracy: 0.9990\n",
      "Epoch 55/100\n",
      "110/110 [==============================] - 23s 211ms/step - loss: 4.5291e-05 - accuracy: 1.0000 - val_loss: 8.7692e-04 - val_accuracy: 0.9990\n",
      "Epoch 56/100\n",
      "110/110 [==============================] - 23s 208ms/step - loss: 2.9055e-05 - accuracy: 1.0000 - val_loss: 8.5650e-04 - val_accuracy: 0.9990\n",
      "Epoch 57/100\n",
      "110/110 [==============================] - 23s 207ms/step - loss: 1.7973e-05 - accuracy: 1.0000 - val_loss: 9.1389e-04 - val_accuracy: 0.9990\n",
      "Epoch 58/100\n",
      "110/110 [==============================] - 23s 207ms/step - loss: 1.8203e-05 - accuracy: 1.0000 - val_loss: 8.0475e-04 - val_accuracy: 0.9990\n",
      "Epoch 59/100\n",
      "110/110 [==============================] - 23s 209ms/step - loss: 1.1527e-05 - accuracy: 1.0000 - val_loss: 8.5688e-04 - val_accuracy: 0.9990\n",
      "Epoch 60/100\n",
      "110/110 [==============================] - 23s 210ms/step - loss: 2.1814e-05 - accuracy: 1.0000 - val_loss: 8.3177e-04 - val_accuracy: 0.9990\n",
      "Epoch 61/100\n",
      "110/110 [==============================] - 23s 209ms/step - loss: 1.6760e-05 - accuracy: 1.0000 - val_loss: 8.5095e-04 - val_accuracy: 0.9990\n",
      "Epoch 62/100\n",
      "110/110 [==============================] - 23s 208ms/step - loss: 1.1631e-05 - accuracy: 1.0000 - val_loss: 8.4200e-04 - val_accuracy: 0.9990\n",
      "Epoch 63/100\n",
      "110/110 [==============================] - 24s 214ms/step - loss: 8.7273e-06 - accuracy: 1.0000 - val_loss: 8.7137e-04 - val_accuracy: 0.9990\n",
      "Epoch 64/100\n",
      "110/110 [==============================] - 24s 215ms/step - loss: 1.1721e-05 - accuracy: 1.0000 - val_loss: 8.8274e-04 - val_accuracy: 0.9990\n",
      "Epoch 65/100\n",
      "110/110 [==============================] - 24s 214ms/step - loss: 2.5888e-05 - accuracy: 1.0000 - val_loss: 9.3294e-04 - val_accuracy: 0.9988\n",
      "Epoch 66/100\n",
      "110/110 [==============================] - 23s 210ms/step - loss: 2.0503e-05 - accuracy: 1.0000 - val_loss: 9.3635e-04 - val_accuracy: 0.9988\n",
      "Epoch 67/100\n",
      "110/110 [==============================] - 23s 214ms/step - loss: 1.6673e-05 - accuracy: 1.0000 - val_loss: 8.5937e-04 - val_accuracy: 0.9990\n",
      "Epoch 68/100\n",
      "110/110 [==============================] - 23s 213ms/step - loss: 2.7658e-05 - accuracy: 1.0000 - val_loss: 8.4462e-04 - val_accuracy: 0.9990\n",
      "Epoch 69/100\n",
      "110/110 [==============================] - 23s 213ms/step - loss: 1.3418e-05 - accuracy: 1.0000 - val_loss: 8.5119e-04 - val_accuracy: 0.9988\n",
      "Epoch 70/100\n",
      "110/110 [==============================] - 23s 213ms/step - loss: 2.1571e-05 - accuracy: 1.0000 - val_loss: 7.9969e-04 - val_accuracy: 0.9990\n",
      "Epoch 71/100\n",
      "110/110 [==============================] - 23s 213ms/step - loss: 2.4962e-05 - accuracy: 1.0000 - val_loss: 7.3073e-04 - val_accuracy: 0.9992\n",
      "Epoch 72/100\n",
      "110/110 [==============================] - 23s 212ms/step - loss: 1.3489e-05 - accuracy: 1.0000 - val_loss: 7.8877e-04 - val_accuracy: 0.9990\n",
      "Epoch 73/100\n",
      "110/110 [==============================] - 23s 212ms/step - loss: 3.5383e-05 - accuracy: 1.0000 - val_loss: 6.6863e-04 - val_accuracy: 0.9993\n",
      "Epoch 74/100\n",
      "110/110 [==============================] - 23s 212ms/step - loss: 2.3116e-05 - accuracy: 1.0000 - val_loss: 8.0769e-04 - val_accuracy: 0.9992\n",
      "Epoch 75/100\n",
      "110/110 [==============================] - 24s 215ms/step - loss: 1.7426e-05 - accuracy: 1.0000 - val_loss: 7.5813e-04 - val_accuracy: 0.9990\n",
      "Epoch 76/100\n",
      "110/110 [==============================] - 23s 212ms/step - loss: 8.6396e-06 - accuracy: 1.0000 - val_loss: 8.4113e-04 - val_accuracy: 0.9988\n",
      "Epoch 77/100\n",
      "110/110 [==============================] - 24s 218ms/step - loss: 1.2343e-05 - accuracy: 1.0000 - val_loss: 8.6499e-04 - val_accuracy: 0.9988\n",
      "Epoch 78/100\n",
      "110/110 [==============================] - 24s 215ms/step - loss: 8.2730e-06 - accuracy: 1.0000 - val_loss: 7.2908e-04 - val_accuracy: 0.9992\n",
      "Epoch 79/100\n",
      "110/110 [==============================] - 23s 211ms/step - loss: 2.0168e-05 - accuracy: 1.0000 - val_loss: 7.8691e-04 - val_accuracy: 0.9988\n",
      "Epoch 80/100\n",
      "110/110 [==============================] - 23s 211ms/step - loss: 1.4412e-05 - accuracy: 1.0000 - val_loss: 8.4538e-04 - val_accuracy: 0.9988\n",
      "Epoch 81/100\n",
      "110/110 [==============================] - 23s 212ms/step - loss: 5.7322e-06 - accuracy: 1.0000 - val_loss: 7.6961e-04 - val_accuracy: 0.9992\n",
      "Epoch 82/100\n",
      "110/110 [==============================] - 23s 211ms/step - loss: 5.8687e-06 - accuracy: 1.0000 - val_loss: 8.6704e-04 - val_accuracy: 0.9988\n",
      "Epoch 83/100\n",
      "110/110 [==============================] - 23s 209ms/step - loss: 2.9086e-05 - accuracy: 1.0000 - val_loss: 7.2720e-04 - val_accuracy: 0.9992\n",
      "Epoch 84/100\n",
      "110/110 [==============================] - 23s 209ms/step - loss: 1.2912e-05 - accuracy: 1.0000 - val_loss: 8.8441e-04 - val_accuracy: 0.9988\n",
      "Epoch 85/100\n",
      "110/110 [==============================] - 23s 213ms/step - loss: 1.1456e-05 - accuracy: 1.0000 - val_loss: 8.0249e-04 - val_accuracy: 0.9988\n",
      "Epoch 86/100\n",
      "110/110 [==============================] - 23s 210ms/step - loss: 5.5876e-05 - accuracy: 1.0000 - val_loss: 6.4974e-04 - val_accuracy: 0.9993\n",
      "Epoch 87/100\n",
      "110/110 [==============================] - 23s 209ms/step - loss: 5.1990e-05 - accuracy: 1.0000 - val_loss: 6.6937e-04 - val_accuracy: 0.9992\n",
      "Epoch 88/100\n",
      "110/110 [==============================] - 23s 213ms/step - loss: 6.7666e-05 - accuracy: 1.0000 - val_loss: 6.7981e-04 - val_accuracy: 0.9993\n",
      "Epoch 89/100\n",
      "110/110 [==============================] - 23s 214ms/step - loss: 2.9993e-05 - accuracy: 1.0000 - val_loss: 5.3189e-04 - val_accuracy: 0.9997\n",
      "Epoch 90/100\n",
      "110/110 [==============================] - 23s 211ms/step - loss: 1.9983e-05 - accuracy: 1.0000 - val_loss: 6.2555e-04 - val_accuracy: 0.9992\n",
      "Epoch 91/100\n",
      "110/110 [==============================] - 23s 209ms/step - loss: 1.4515e-05 - accuracy: 1.0000 - val_loss: 6.9818e-04 - val_accuracy: 0.9992\n",
      "Epoch 92/100\n",
      "110/110 [==============================] - 23s 213ms/step - loss: 1.4064e-05 - accuracy: 1.0000 - val_loss: 6.5229e-04 - val_accuracy: 0.9992\n",
      "Epoch 93/100\n",
      "110/110 [==============================] - 23s 209ms/step - loss: 1.0718e-05 - accuracy: 1.0000 - val_loss: 7.6528e-04 - val_accuracy: 0.9988\n",
      "Epoch 94/100\n",
      "110/110 [==============================] - 23s 210ms/step - loss: 5.7518e-06 - accuracy: 1.0000 - val_loss: 6.4492e-04 - val_accuracy: 0.9992\n",
      "Epoch 95/100\n",
      "110/110 [==============================] - 23s 211ms/step - loss: 3.3031e-06 - accuracy: 1.0000 - val_loss: 7.2803e-04 - val_accuracy: 0.9990\n",
      "Epoch 96/100\n",
      "110/110 [==============================] - 23s 212ms/step - loss: 2.2560e-06 - accuracy: 1.0000 - val_loss: 7.2634e-04 - val_accuracy: 0.9990\n",
      "Epoch 97/100\n",
      "110/110 [==============================] - 23s 212ms/step - loss: 3.5049e-06 - accuracy: 1.0000 - val_loss: 7.3384e-04 - val_accuracy: 0.9990\n",
      "Epoch 98/100\n",
      "110/110 [==============================] - 24s 214ms/step - loss: 2.8245e-06 - accuracy: 1.0000 - val_loss: 7.4630e-04 - val_accuracy: 0.9990\n",
      "Epoch 99/100\n",
      "110/110 [==============================] - 23s 212ms/step - loss: 8.1895e-06 - accuracy: 1.0000 - val_loss: 7.5150e-04 - val_accuracy: 0.9990\n",
      "Epoch 100/100\n",
      "110/110 [==============================] - 23s 212ms/step - loss: 8.0443e-06 - accuracy: 1.0000 - val_loss: 7.0827e-04 - val_accuracy: 0.9992\n",
      "Test loss: 0.0007082683150656521\n",
      "Test accuracy: 0.9991663694381714\n"
     ]
    },
    {
     "name": "stderr",
     "output_type": "stream",
     "text": [
      "/nfs/pic.es/user/m/mrodrigu/.local/lib/python3.11/site-packages/keras/src/engine/training.py:3000: UserWarning: You are saving your model as an HDF5 file via `model.save()`. This file format is considered legacy. We recommend using instead the native Keras format, e.g. `model.save('my_model.keras')`.\n",
      "  saving_api.save_model(\n"
     ]
    }
   ],
   "source": [
    "batch_size = 128\n",
    "epochs = 100\n",
    "\n",
    "history=model.fit(x_train, y_train,\n",
    "          batch_size=batch_size,\n",
    "          epochs=epochs,\n",
    "          verbose=1,\n",
    "          validation_data=(x_test, y_test))\n",
    "\n",
    "score = model.evaluate(x_test, y_test, verbose=0)\n",
    "print('Test loss:', score[0])\n",
    "print('Test accuracy:', score[1])\n",
    "model.save(\"test_model.h5\")"
   ]
  },
  {
   "cell_type": "markdown",
   "id": "252e1c6b-b196-4af5-ae5d-b1e6cbe8fcaf",
   "metadata": {},
   "source": [
    "**Evaluating the results**"
   ]
  },
  {
   "cell_type": "markdown",
   "id": "78696b83-cc36-4797-a24d-6a28cb401c77",
   "metadata": {},
   "source": [
    "Confusion Matrix:"
   ]
  },
  {
   "cell_type": "code",
   "execution_count": 38,
   "id": "9a933569-8233-46b7-9e9d-87f36ee0cdcf",
   "metadata": {
    "tags": []
   },
   "outputs": [
    {
     "name": "stdout",
     "output_type": "stream",
     "text": [
      "188/188 [==============================] - 5s 25ms/step\n"
     ]
    },
    {
     "data": {
      "image/png": "[encoded data removed]",
      "text/plain": [
       "<Figure size 800x600 with 2 Axes>"
      ]
     },
     "metadata": {},
     "output_type": "display_data"
    }
   ],
   "source": [
    "import numpy as np\n",
    "import matplotlib.pyplot as plt\n",
    "import seaborn as sns\n",
    "from sklearn.metrics import confusion_matrix\n",
    "\n",
    "# Predict the classes in the test set\n",
    "y_pred = model.predict(x_test)\n",
    "y_pred_classes = np.argmax(y_pred, axis=1)  # Get the predicted classes\n",
    "\n",
    "# Get the actual classes of the test set\n",
    "y_true = np.argmax(y_test, axis=1)\n",
    "\n",
    "# Calculate the confusion matrix\n",
    "confusion_mtx = confusion_matrix(y_true, y_pred_classes)\n",
    "confusion_mtx_normalized=confusion_mtx/confusion_mtx.sum(axis=1, keepdims=True)\n",
    "\n",
    "# Represent the confusion matrix\n",
    "plt.figure(figsize=(8, 6))\n",
    "sns.heatmap(confusion_mtx_normalized, annot=True, fmt=\".2f\", cmap=\"Blues\",\n",
    "            xticklabels=[\"1 particles\", \"2 particles\"],\n",
    "            yticklabels=[\"1 particles\", \"2 particles\"])\n",
    "plt.xlabel('Predicted Values')\n",
    "plt.ylabel('True values')\n",
    "plt.title('Normalized Confusion Matrix')\n",
    "plt.savefig('confusion_matrix.png', dpi=200)\n",
    "plt.show()\n"
   ]
  },
  {
   "cell_type": "markdown",
   "id": "4c510448-0354-4613-9fff-efc024c9df73",
   "metadata": {},
   "source": [
    "Loss and Accuracy:"
   ]
  },
  {
   "cell_type": "code",
   "execution_count": 39,
   "id": "938ea8cf-1fb7-402c-bab7-56e49d8919dc",
   "metadata": {
    "tags": []
   },
   "outputs": [
    {
     "data": {
      "image/png": "[encoded data removed]",
      "text/plain": [
       "<Figure size 800x600 with 1 Axes>"
      ]
     },
     "metadata": {},
     "output_type": "display_data"
    }
   ],
   "source": [
    "train_loss = history.history['loss']\n",
    "train_acc = history.history['accuracy']\n",
    "val_loss = history.history['val_loss']\n",
    "val_acc = history.history['val_accuracy']\n",
    "\n",
    "# Loss graph\n",
    "plt.figure(figsize=(8, 6))\n",
    "plt.plot(range(epochs), train_loss, label='Training Loss')\n",
    "plt.plot(range(epochs), val_loss, label='Validation Loss')\n",
    "plt.xlabel('Epochs')\n",
    "plt.ylabel('Loss')\n",
    "plt.title('Loss vs. Epoch')\n",
    "plt.legend()\n",
    "plt.savefig('loss_graph.png', dpi=200)\n",
    "plt.show()"
   ]
  },
  {
   "cell_type": "code",
   "execution_count": 40,
   "id": "f0ca1aa2-27d2-4671-aa40-a7778577bdc0",
   "metadata": {
    "tags": []
   },
   "outputs": [
    {
     "data": {
      "image/png": "[encoded data removed]",
      "text/plain": [
       "<Figure size 700x600 with 1 Axes>"
      ]
     },
     "metadata": {},
     "output_type": "display_data"
    }
   ],
   "source": [
    "# Accuracy graph\n",
    "plt.figure(figsize=(7, 6))\n",
    "plt.plot(range(epochs), train_acc, label='Training Accuracy')\n",
    "plt.plot(range(epochs), val_acc, label='Validation Accuracy')\n",
    "plt.xlabel('Epochs')\n",
    "plt.ylabel('Accuracy')\n",
    "plt.title('Accuracy vs. Epoch')\n",
    "plt.legend()\n",
    "plt.savefig('accuracy_graph.png', dpi=200)\n",
    "plt.show()"
   ]
  },
  {
   "cell_type": "markdown",
   "id": "1da97f31-2249-402e-91e2-f0c47cebb3e2",
   "metadata": {},
   "source": [
    "ROC (Receiver Operating Characteristic) curve:\n",
    "<div align=\"center\">\n",
    "$TPR = \\frac{TP}{TP + FN}$ &nbsp;&nbsp;&nbsp; $FPR = \\frac{FP}{FP + TN}$\n",
    "</div>"
   ]
  },
  {
   "cell_type": "code",
   "execution_count": 41,
   "id": "f4ca25d2-45fd-4f26-8dac-e5d9b966614f",
   "metadata": {
    "tags": []
   },
   "outputs": [
    {
     "data": {
      "image/png": "[encoded data removed]",
      "text/plain": [
       "<Figure size 800x600 with 1 Axes>"
      ]
     },
     "metadata": {},
     "output_type": "display_data"
    }
   ],
   "source": [
    "from sklearn.metrics import roc_curve, auc\n",
    "\n",
    "# Compute ROC curve and ROC area for each class\n",
    "fpr = roc_curve(y_true, y_pred_classes)[0]\n",
    "tpr = roc_curve(y_true, y_pred_classes)[1]\n",
    "roc_auc=auc(fpr, tpr)\n",
    "\n",
    "# Plot ROC curve\n",
    "plt.figure(figsize=(8, 6))\n",
    "plt.plot(fpr, tpr, color='darkorange', lw=2, label='ROC curve (area = %0.2f)' % roc_auc)\n",
    "plt.xlim([0.0, 1.0])\n",
    "plt.ylim([0.0, 1.05])\n",
    "plt.xlabel('FPR')\n",
    "plt.ylabel('TPR')\n",
    "plt.title('ROC curve')\n",
    "plt.legend(loc=\"lower right\")\n",
    "plt.savefig('roc_curve.png', dpi=200)\n",
    "plt.show()\n"
   ]
  }
 ],
 "metadata": {
  "kernelspec": {
   "display_name": "Python 3 (ipykernel)",
   "language": "python",
   "name": "python3"
  },
  "language_info": {
   "codemirror_mode": {
    "name": "ipython",
    "version": 3
   },
   "file_extension": ".py",
   "mimetype": "text/x-python",
   "name": "python",
   "nbconvert_exporter": "python",
   "pygments_lexer": "ipython3",
   "version": "3.11.5"
  }
 },
 "nbformat": 4,
 "nbformat_minor": 5
}
