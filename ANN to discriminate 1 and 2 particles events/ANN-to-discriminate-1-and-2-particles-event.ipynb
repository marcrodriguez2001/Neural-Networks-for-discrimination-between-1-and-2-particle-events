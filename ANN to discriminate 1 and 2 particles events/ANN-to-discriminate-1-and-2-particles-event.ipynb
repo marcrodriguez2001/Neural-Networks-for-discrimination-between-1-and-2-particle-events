{
 "cells": [
  {
   "cell_type": "markdown",
   "id": "f88377bc-0981-4da1-880b-82ff0ce7d698",
   "metadata": {},
   "source": [
    "### ANN to discriminate 1 and 2 particles event"
   ]
  },
  {
   "cell_type": "code",
   "execution_count": 44,
   "id": "8520c479-47d5-444a-9f33-501a45783c3c",
   "metadata": {
    "tags": []
   },
   "outputs": [],
   "source": [
    "import numpy as np\n",
    "import pandas as pd\n",
    "import tensorflow as tf\n",
    "from sklearn.model_selection import train_test_split\n",
    "from sklearn.metrics import confusion_matrix, accuracy_score, roc_curve, auc\n",
    "import matplotlib.pyplot as plt\n",
    "from tensorflow.keras.utils import to_categorical"
   ]
  },
  {
   "cell_type": "markdown",
   "id": "dbf30654-64df-4789-a694-31067f6c67f4",
   "metadata": {},
   "source": [
    "**Data Structure**"
   ]
  },
  {
   "cell_type": "code",
   "execution_count": 45,
   "id": "a36a6573-3c7b-42ad-a931-8d336b23c8ca",
   "metadata": {
    "tags": []
   },
   "outputs": [],
   "source": [
    "path='/nfs/pic.es/user/m/mrodrigu/common/CNN_discriminate_1-2_particles/ANN/input.csv'"
   ]
  },
  {
   "cell_type": "code",
   "execution_count": 46,
   "id": "0a79bc0d-d2f3-4546-a4f1-b5cff59019ef",
   "metadata": {
    "tags": []
   },
   "outputs": [],
   "source": [
    "input_paths=pd.read_csv(path)"
   ]
  },
  {
   "cell_type": "code",
   "execution_count": 47,
   "id": "5efe84d0-8185-4879-9710-48f4ca82cb1b",
   "metadata": {
    "tags": []
   },
   "outputs": [
    {
     "data": {
      "text/html": [
       "<div>\n",
       "<style scoped>\n",
       "    .dataframe tbody tr th:only-of-type {\n",
       "        vertical-align: middle;\n",
       "    }\n",
       "\n",
       "    .dataframe tbody tr th {\n",
       "        vertical-align: top;\n",
       "    }\n",
       "\n",
       "    .dataframe thead th {\n",
       "        text-align: right;\n",
       "    }\n",
       "</style>\n",
       "<table border=\"1\" class=\"dataframe\">\n",
       "  <thead>\n",
       "    <tr style=\"text-align: right;\">\n",
       "      <th></th>\n",
       "      <th>event</th>\n",
       "      <th>nhits</th>\n",
       "      <th>[row, col, qmax, tmax]</th>\n",
       "      <th>npart</th>\n",
       "    </tr>\n",
       "  </thead>\n",
       "  <tbody>\n",
       "    <tr>\n",
       "      <th>0</th>\n",
       "      <td>4751</td>\n",
       "      <td>231</td>\n",
       "      <td>[[36, 59, 295, 160], [36, 60, 425, 121], [36, ...</td>\n",
       "      <td>1</td>\n",
       "    </tr>\n",
       "    <tr>\n",
       "      <th>1</th>\n",
       "      <td>6069</td>\n",
       "      <td>420</td>\n",
       "      <td>[[57, 62, 286, 434], [59, 66, 364, 327], [59, ...</td>\n",
       "      <td>2</td>\n",
       "    </tr>\n",
       "    <tr>\n",
       "      <th>2</th>\n",
       "      <td>1891</td>\n",
       "      <td>411</td>\n",
       "      <td>[[56, 26, 298, 397], [56, 25, 663, 383], [56, ...</td>\n",
       "      <td>2</td>\n",
       "    </tr>\n",
       "    <tr>\n",
       "      <th>3</th>\n",
       "      <td>5583</td>\n",
       "      <td>370</td>\n",
       "      <td>[[57, 44, 288, 459], [48, 44, 359, 347], [49, ...</td>\n",
       "      <td>2</td>\n",
       "    </tr>\n",
       "    <tr>\n",
       "      <th>4</th>\n",
       "      <td>1556</td>\n",
       "      <td>220</td>\n",
       "      <td>[[40, 62, 313, 93], [36, 58, 303, 111], [36, 5...</td>\n",
       "      <td>1</td>\n",
       "    </tr>\n",
       "    <tr>\n",
       "      <th>...</th>\n",
       "      <td>...</td>\n",
       "      <td>...</td>\n",
       "      <td>...</td>\n",
       "      <td>...</td>\n",
       "    </tr>\n",
       "    <tr>\n",
       "      <th>19993</th>\n",
       "      <td>5407</td>\n",
       "      <td>370</td>\n",
       "      <td>[[56, 45, 308, 333], [56, 46, 657, 305], [56, ...</td>\n",
       "      <td>2</td>\n",
       "    </tr>\n",
       "    <tr>\n",
       "      <th>19994</th>\n",
       "      <td>8250</td>\n",
       "      <td>374</td>\n",
       "      <td>[[56, 34, 352, 303], [56, 35, 1184, 297], [57,...</td>\n",
       "      <td>2</td>\n",
       "    </tr>\n",
       "    <tr>\n",
       "      <th>19995</th>\n",
       "      <td>4071</td>\n",
       "      <td>394</td>\n",
       "      <td>[[56, 43, 386, 350], [56, 42, 407, 349], [57, ...</td>\n",
       "      <td>2</td>\n",
       "    </tr>\n",
       "    <tr>\n",
       "      <th>19996</th>\n",
       "      <td>9931</td>\n",
       "      <td>175</td>\n",
       "      <td>[[40, 133, 294, 154], [40, 134, 445, 105], [36...</td>\n",
       "      <td>1</td>\n",
       "    </tr>\n",
       "    <tr>\n",
       "      <th>19997</th>\n",
       "      <td>6952</td>\n",
       "      <td>383</td>\n",
       "      <td>[[56, 41, 644, 338], [56, 40, 319, 344], [57, ...</td>\n",
       "      <td>2</td>\n",
       "    </tr>\n",
       "  </tbody>\n",
       "</table>\n",
       "<p>19998 rows × 4 columns</p>\n",
       "</div>"
      ],
      "text/plain": [
       "       event  nhits                             [row, col, qmax, tmax]  npart\n",
       "0       4751    231  [[36, 59, 295, 160], [36, 60, 425, 121], [36, ...      1\n",
       "1       6069    420  [[57, 62, 286, 434], [59, 66, 364, 327], [59, ...      2\n",
       "2       1891    411  [[56, 26, 298, 397], [56, 25, 663, 383], [56, ...      2\n",
       "3       5583    370  [[57, 44, 288, 459], [48, 44, 359, 347], [49, ...      2\n",
       "4       1556    220  [[40, 62, 313, 93], [36, 58, 303, 111], [36, 5...      1\n",
       "...      ...    ...                                                ...    ...\n",
       "19993   5407    370  [[56, 45, 308, 333], [56, 46, 657, 305], [56, ...      2\n",
       "19994   8250    374  [[56, 34, 352, 303], [56, 35, 1184, 297], [57,...      2\n",
       "19995   4071    394  [[56, 43, 386, 350], [56, 42, 407, 349], [57, ...      2\n",
       "19996   9931    175  [[40, 133, 294, 154], [40, 134, 445, 105], [36...      1\n",
       "19997   6952    383  [[56, 41, 644, 338], [56, 40, 319, 344], [57, ...      2\n",
       "\n",
       "[19998 rows x 4 columns]"
      ]
     },
     "execution_count": 47,
     "metadata": {},
     "output_type": "execute_result"
    }
   ],
   "source": [
    "input_paths"
   ]
  },
  {
   "cell_type": "code",
   "execution_count": 48,
   "id": "12e56d6f-862c-4299-8694-dbbde81e5e7e",
   "metadata": {
    "tags": []
   },
   "outputs": [],
   "source": [
    "def parse_list_column(column):\n",
    "    try:\n",
    "        return eval(column)\n",
    "    except:\n",
    "        return []\n",
    "\n",
    "input_paths['[row, col, qmax, tmax]'] = input_paths['[row, col, qmax, tmax]'].apply(parse_list_column)\n",
    "\n",
    "data_list = input_paths['[row, col, qmax, tmax]'].tolist()"
   ]
  },
  {
   "cell_type": "markdown",
   "id": "fe7332ab-3191-439d-8d98-05f4975f65ad",
   "metadata": {},
   "source": [
    "Create tmax list:"
   ]
  },
  {
   "cell_type": "code",
   "execution_count": 49,
   "id": "110e049f-ca3b-4527-a413-bf0bd5358a0b",
   "metadata": {
    "tags": []
   },
   "outputs": [],
   "source": [
    "tmax_list=[]\n",
    "for i in range(len(input_paths)):\n",
    "    for array in input_paths.at[i, '[row, col, qmax, tmax]']:\n",
    "        row, col, qmax, tmax = array\n",
    "        tmax_list.append(tmax)"
   ]
  },
  {
   "cell_type": "code",
   "execution_count": 50,
   "id": "b58b3051-63cc-445b-8f96-9aa2fbbb89f9",
   "metadata": {
    "tags": []
   },
   "outputs": [
    {
     "data": {
      "text/plain": [
       "6035786"
      ]
     },
     "execution_count": 50,
     "metadata": {},
     "output_type": "execute_result"
    }
   ],
   "source": [
    "len(tmax_list)"
   ]
  },
  {
   "cell_type": "markdown",
   "id": "dceb2c48-ac74-4170-9965-a1fe661aadac",
   "metadata": {
    "tags": []
   },
   "source": [
    "Create label list:"
   ]
  },
  {
   "cell_type": "code",
   "execution_count": 51,
   "id": "6491d1db-0619-41d4-a87b-70ab5bd43904",
   "metadata": {
    "tags": []
   },
   "outputs": [],
   "source": [
    "label_list=[]\n",
    "\n",
    "for _, row in input_paths.iterrows():\n",
    "    npart = row['npart']\n",
    "    nhits = row['nhits']\n",
    "    label_list.extend([npart] * nhits)\n",
    "    "
   ]
  },
  {
   "cell_type": "code",
   "execution_count": 52,
   "id": "6c244b7b-c4fb-4b4f-9cd3-36af57975349",
   "metadata": {
    "tags": []
   },
   "outputs": [
    {
     "data": {
      "text/plain": [
       "6035786"
      ]
     },
     "execution_count": 52,
     "metadata": {},
     "output_type": "execute_result"
    }
   ],
   "source": [
    "len(label_list)"
   ]
  },
  {
   "cell_type": "code",
   "execution_count": 53,
   "id": "d0b8b072-22a5-4560-97bb-b446aefe2961",
   "metadata": {
    "tags": []
   },
   "outputs": [],
   "source": [
    "import numpy as np\n",
    "from sklearn.model_selection import train_test_split"
   ]
  },
  {
   "cell_type": "code",
   "execution_count": 54,
   "id": "72d4ae0b-5b35-48cc-8430-592c9419994b",
   "metadata": {
    "tags": []
   },
   "outputs": [],
   "source": [
    "X = np.array(tmax_list)\n",
    "y = np.array(label_list)"
   ]
  },
  {
   "cell_type": "code",
   "execution_count": 55,
   "id": "07b62feb-9ac8-40b0-802e-89460b23e0d8",
   "metadata": {
    "tags": []
   },
   "outputs": [],
   "source": [
    "y -= 1"
   ]
  },
  {
   "cell_type": "code",
   "execution_count": 56,
   "id": "b83b7dc4-7e88-4bf8-b4f2-44c1721e8a8d",
   "metadata": {
    "tags": []
   },
   "outputs": [
    {
     "data": {
      "text/plain": [
       "(array([160, 121, 122, ..., 331, 330, 329]), array([0, 0, 0, ..., 1, 1, 1]))"
      ]
     },
     "execution_count": 56,
     "metadata": {},
     "output_type": "execute_result"
    }
   ],
   "source": [
    "X, y"
   ]
  },
  {
   "cell_type": "code",
   "execution_count": 57,
   "id": "e9d90e08-c486-4fd5-83ab-c0441dae8b9f",
   "metadata": {
    "tags": []
   },
   "outputs": [],
   "source": [
    "X_train, X_test, y_train, y_test = train_test_split(X, y, test_size=0.4, random_state=42)"
   ]
  },
  {
   "cell_type": "markdown",
   "id": "3aa7f229-b9fa-4849-baab-6d15f1dc5669",
   "metadata": {},
   "source": [
    "**ANN structure and model**"
   ]
  },
  {
   "cell_type": "code",
   "execution_count": 58,
   "id": "a727fd14-c779-4d58-abb7-0937b91f1540",
   "metadata": {
    "tags": []
   },
   "outputs": [],
   "source": [
    "model = tf.keras.Sequential([\n",
    "    tf.keras.layers.Dense(32, activation='relu', input_shape=(1,)),  # Input shape (1,) for one feature \n",
    "    tf.keras.layers.Dense(2, activation='softmax')  # 2 output neurons for 1 and 2 classes\n",
    "])"
   ]
  },
  {
   "cell_type": "markdown",
   "id": "54c96d1d-1088-4fef-9b8c-48afb23aa8e3",
   "metadata": {},
   "source": [
    "Compile the model:"
   ]
  },
  {
   "cell_type": "code",
   "execution_count": 59,
   "id": "b5d4af26-869f-4f3b-b324-bc3ecb927b16",
   "metadata": {
    "tags": []
   },
   "outputs": [],
   "source": [
    "model.compile(optimizer='adam', loss='sparse_categorical_crossentropy', metrics=['accuracy'])"
   ]
  },
  {
   "cell_type": "markdown",
   "id": "5f02e380-7c32-4e81-b73a-aaf199521d9b",
   "metadata": {},
   "source": [
    "Training:"
   ]
  },
  {
   "cell_type": "code",
   "execution_count": 60,
   "id": "c5a159e4-e390-4cc4-a1a9-e8f815891524",
   "metadata": {
    "tags": []
   },
   "outputs": [
    {
     "name": "stdout",
     "output_type": "stream",
     "text": [
      "Epoch 1/10\n",
      "90537/90537 [==============================] - 182s 2ms/step - loss: 0.0658 - accuracy: 0.9844 - val_loss: 0.0578 - val_accuracy: 0.9876\n",
      "Epoch 2/10\n",
      "90537/90537 [==============================] - 178s 2ms/step - loss: 0.0521 - accuracy: 0.9866 - val_loss: 0.0507 - val_accuracy: 0.9874\n",
      "Epoch 3/10\n",
      "90537/90537 [==============================] - 186s 2ms/step - loss: 0.0515 - accuracy: 0.9868 - val_loss: 0.0527 - val_accuracy: 0.9875\n",
      "Epoch 4/10\n",
      "90537/90537 [==============================] - 170s 2ms/step - loss: 0.0513 - accuracy: 0.9868 - val_loss: 0.0504 - val_accuracy: 0.9871\n",
      "Epoch 5/10\n",
      "90537/90537 [==============================] - 177s 2ms/step - loss: 0.0512 - accuracy: 0.9868 - val_loss: 0.0510 - val_accuracy: 0.9869\n",
      "Epoch 6/10\n",
      "90537/90537 [==============================] - 173s 2ms/step - loss: 0.0512 - accuracy: 0.9868 - val_loss: 0.0528 - val_accuracy: 0.9875\n",
      "Epoch 7/10\n",
      "90537/90537 [==============================] - 179s 2ms/step - loss: 0.0512 - accuracy: 0.9868 - val_loss: 0.0504 - val_accuracy: 0.9868\n",
      "Epoch 8/10\n",
      "90537/90537 [==============================] - 173s 2ms/step - loss: 0.0511 - accuracy: 0.9868 - val_loss: 0.0517 - val_accuracy: 0.9875\n",
      "Epoch 9/10\n",
      "90537/90537 [==============================] - 174s 2ms/step - loss: 0.0511 - accuracy: 0.9868 - val_loss: 0.0504 - val_accuracy: 0.9873\n",
      "Epoch 10/10\n",
      "90537/90537 [==============================] - 171s 2ms/step - loss: 0.0510 - accuracy: 0.9868 - val_loss: 0.0521 - val_accuracy: 0.9860\n"
     ]
    }
   ],
   "source": [
    "history = model.fit(X_train, y_train, epochs=10, batch_size=32, validation_split=0.2)"
   ]
  },
  {
   "cell_type": "markdown",
   "id": "c5f85b20-616b-4ea5-9060-b3f90d1027f0",
   "metadata": {},
   "source": [
    "**Metrics**"
   ]
  },
  {
   "cell_type": "markdown",
   "id": "10120826-16b3-4628-9189-089f20028971",
   "metadata": {},
   "source": [
    "Confusion Matrix:"
   ]
  },
  {
   "cell_type": "code",
   "execution_count": 61,
   "id": "756492b8-4e6f-486c-bec6-d151f3291e06",
   "metadata": {
    "tags": []
   },
   "outputs": [
    {
     "name": "stdout",
     "output_type": "stream",
     "text": [
      "75448/75448 [==============================] - 97s 1ms/step\n"
     ]
    }
   ],
   "source": [
    "y_pred = model.predict(X_test)\n",
    "y_pred_classes = np.argmax(y_pred, axis=1)"
   ]
  },
  {
   "cell_type": "code",
   "execution_count": 62,
   "id": "813e2a6f-938d-4b22-bcc3-9a775f8a0b60",
   "metadata": {},
   "outputs": [],
   "source": [
    "conf_matrix = confusion_matrix(y_test, y_pred_classes)"
   ]
  },
  {
   "cell_type": "code",
   "execution_count": 63,
   "id": "540e8f8a-0f9c-4c62-8d48-009a414f6a22",
   "metadata": {
    "tags": []
   },
   "outputs": [],
   "source": [
    "confusion_mtx_normalized=conf_matrix/conf_matrix.sum(axis=1, keepdims=True)"
   ]
  },
  {
   "cell_type": "code",
   "execution_count": 64,
   "id": "77da5768-f93f-4e50-8b6b-1ee97110aa2a",
   "metadata": {
    "tags": []
   },
   "outputs": [
    {
     "data": {
      "image/png": "[encoded data removed]",
      "text/plain": [
       "<Figure size 800x600 with 2 Axes>"
      ]
     },
     "metadata": {},
     "output_type": "display_data"
    }
   ],
   "source": [
    "import seaborn as sns\n",
    "from sklearn.metrics import confusion_matrix\n",
    "\n",
    "plt.figure(figsize=(8, 6))\n",
    "sns.heatmap(confusion_mtx_normalized, annot=True, fmt=\".2f\", cmap=\"Blues\",\n",
    "            xticklabels=[\"1 particles\", \"2 particles\"],\n",
    "            yticklabels=[\"1 particles\", \"2 particles\"])\n",
    "plt.xlabel('Predicted Values')\n",
    "plt.ylabel('True values')\n",
    "plt.title('Normalized Confusion Matrix')\n",
    "plt.savefig('confusion_matrix.png', dpi=200)\n",
    "plt.show()"
   ]
  },
  {
   "cell_type": "markdown",
   "id": "d8996a0f-845b-46bb-aff9-f762b1db89c6",
   "metadata": {},
   "source": [
    "Loss:"
   ]
  },
  {
   "cell_type": "code",
   "execution_count": 65,
   "id": "8b95c939-d4bd-4810-abcd-c830c9e1acaa",
   "metadata": {
    "tags": []
   },
   "outputs": [
    {
     "data": {
      "text/plain": [
       "<matplotlib.legend.Legend at 0x2b3471c86110>"
      ]
     },
     "execution_count": 65,
     "metadata": {},
     "output_type": "execute_result"
    },
    {
     "data": {
      "image/png": "[encoded data removed]",
      "text/plain": [
       "<Figure size 1200x400 with 1 Axes>"
      ]
     },
     "metadata": {},
     "output_type": "display_data"
    }
   ],
   "source": [
    "plt.figure(figsize=(12, 4))\n",
    "plt.subplot(1, 2, 1)\n",
    "plt.plot(history.history['loss'], label='Training Loss')\n",
    "plt.plot(history.history['val_loss'], label='Validation Loss')\n",
    "plt.xlabel('Epoch')\n",
    "plt.ylabel('Loss')\n",
    "plt.legend()\n",
    "plt.savefig('loss_graph.png', dpi=200)\n",
    "plt.legend()"
   ]
  },
  {
   "cell_type": "markdown",
   "id": "73e67356-7bd1-41bc-89c5-e296e715ed20",
   "metadata": {},
   "source": [
    "Accuracy:"
   ]
  },
  {
   "cell_type": "code",
   "execution_count": 66,
   "id": "2616218a-9ff5-4d90-9443-ad6851fa7aa9",
   "metadata": {
    "tags": []
   },
   "outputs": [],
   "source": [
    "accuracy = accuracy_score(y_test, y_pred_classes)"
   ]
  },
  {
   "cell_type": "code",
   "execution_count": 67,
   "id": "d47d39a4-3e69-4a2e-89d4-b1987223e40f",
   "metadata": {},
   "outputs": [
    {
     "data": {
      "text/plain": [
       "<matplotlib.legend.Legend at 0x2b3471c85bd0>"
      ]
     },
     "execution_count": 67,
     "metadata": {},
     "output_type": "execute_result"
    },
    {
     "data": {
      "image/png": "[encoded data removed]",
      "text/plain": [
       "<Figure size 640x480 with 1 Axes>"
      ]
     },
     "metadata": {},
     "output_type": "display_data"
    }
   ],
   "source": [
    "plt.subplot(1, 2, 2)\n",
    "plt.plot(history.history['accuracy'], label='Training Accuracy')\n",
    "plt.plot(history.history['val_accuracy'], label='Validation Accuracy')\n",
    "plt.xlabel('Epoch')\n",
    "plt.ylabel('Accuracy')\n",
    "plt.legend()\n",
    "plt.savefig('accuracy_graph.png', dpi=200)\n",
    "plt.legend()"
   ]
  },
  {
   "cell_type": "markdown",
   "id": "a9a42650-1c47-4a53-bfe5-db8f96c3192d",
   "metadata": {},
   "source": [
    "ROC curve:"
   ]
  },
  {
   "cell_type": "code",
   "execution_count": 68,
   "id": "a68a0177-abf9-48b5-b5cf-57617f056ce8",
   "metadata": {
    "tags": []
   },
   "outputs": [],
   "source": [
    "y_pred_prob = y_pred[:, 1]\n",
    "\n",
    "fpr, tpr, thresholds = roc_curve(y_test, y_pred_prob)\n",
    "roc_auc = auc(fpr, tpr)"
   ]
  },
  {
   "cell_type": "code",
   "execution_count": 69,
   "id": "2b9c99f1-df75-4c5c-b243-10b8e8e056e1",
   "metadata": {
    "tags": []
   },
   "outputs": [
    {
     "data": {
      "image/png": "[encoded data removed]",
      "text/plain": [
       "<Figure size 600x600 with 1 Axes>"
      ]
     },
     "metadata": {},
     "output_type": "display_data"
    }
   ],
   "source": [
    "plt.figure(figsize=(6, 6))\n",
    "plt.plot(fpr, tpr,color='darkorange', lw=2, label=f'AUC = {roc_auc:.2f}')\n",
    "plt.xlim([0.0, 1.0])\n",
    "plt.ylim([0.0, 1.05])\n",
    "plt.xlabel('FPR')\n",
    "plt.ylabel('TPR')\n",
    "plt.title('ROC curve')\n",
    "plt.legend()\n",
    "plt.savefig('roc_curve.png', dpi=200)\n",
    "plt.show()"
   ]
  }
 ],
 "metadata": {
  "kernelspec": {
   "display_name": "Python 3 (ipykernel)",
   "language": "python",
   "name": "python3"
  },
  "language_info": {
   "codemirror_mode": {
    "name": "ipython",
    "version": 3
   },
   "file_extension": ".py",
   "mimetype": "text/x-python",
   "name": "python",
   "nbconvert_exporter": "python",
   "pygments_lexer": "ipython3",
   "version": "3.11.5"
  }
 },
 "nbformat": 4,
 "nbformat_minor": 5
}
