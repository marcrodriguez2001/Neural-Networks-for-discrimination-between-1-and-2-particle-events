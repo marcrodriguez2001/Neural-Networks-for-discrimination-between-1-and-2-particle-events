{
 "cells": [
  {
   "cell_type": "markdown",
   "id": "f20db770-0541-4a2b-8358-8fc4a54b1222",
   "metadata": {},
   "source": [
    "### CNN to discriminate protons and muons event"
   ]
  },
  {
   "cell_type": "code",
   "execution_count": 1,
   "id": "4e2c97c6-bc53-47d5-b419-7ec29846baff",
   "metadata": {},
   "outputs": [],
   "source": [
    "import numpy as np\n",
    "import pandas as pd\n",
    "import matplotlib.pyplot as plt\n",
    "\n",
    "%matplotlib inline"
   ]
  },
  {
   "cell_type": "markdown",
   "id": "e22ad964-a9b8-4646-9438-f0ff864437b9",
   "metadata": {},
   "source": [
    "**Data Structure**"
   ]
  },
  {
   "cell_type": "code",
   "execution_count": 2,
   "id": "697f1746-cd6d-4a96-be10-5eca813cb10d",
   "metadata": {
    "tags": []
   },
   "outputs": [],
   "source": [
    "path='/nfs/pic.es/user/m/mrodrigu/common/Machine_Learning_for_particle_discrimination/CNN_protons_muons/input.csv'"
   ]
  },
  {
   "cell_type": "code",
   "execution_count": 3,
   "id": "2d4b276a-73e9-44b4-9932-8718dbb59a1f",
   "metadata": {
    "tags": []
   },
   "outputs": [],
   "source": [
    "input_paths=pd.read_csv(path)"
   ]
  },
  {
   "cell_type": "code",
   "execution_count": 4,
   "id": "9e018e06-c433-4b81-8a9b-568896968ec2",
   "metadata": {
    "tags": []
   },
   "outputs": [
    {
     "data": {
      "text/html": [
       "<div>\n",
       "<style scoped>\n",
       "    .dataframe tbody tr th:only-of-type {\n",
       "        vertical-align: middle;\n",
       "    }\n",
       "\n",
       "    .dataframe tbody tr th {\n",
       "        vertical-align: top;\n",
       "    }\n",
       "\n",
       "    .dataframe thead th {\n",
       "        text-align: right;\n",
       "    }\n",
       "</style>\n",
       "<table border=\"1\" class=\"dataframe\">\n",
       "  <thead>\n",
       "    <tr style=\"text-align: right;\">\n",
       "      <th></th>\n",
       "      <th>event</th>\n",
       "      <th>nhits</th>\n",
       "      <th>[row, col, qmax, tmax]</th>\n",
       "      <th>label</th>\n",
       "    </tr>\n",
       "  </thead>\n",
       "  <tbody>\n",
       "    <tr>\n",
       "      <th>0</th>\n",
       "      <td>6121</td>\n",
       "      <td>403</td>\n",
       "      <td>[[59, 35, 865, 358], [59, 34, 307, 374], [58, ...</td>\n",
       "      <td>0</td>\n",
       "    </tr>\n",
       "    <tr>\n",
       "      <th>1</th>\n",
       "      <td>1105</td>\n",
       "      <td>204</td>\n",
       "      <td>[[59, 55, 462, 347], [59, 56, 1262, 346], [59,...</td>\n",
       "      <td>1</td>\n",
       "    </tr>\n",
       "    <tr>\n",
       "      <th>2</th>\n",
       "      <td>9545</td>\n",
       "      <td>195</td>\n",
       "      <td>[[56, 63, 599, 335], [57, 63, 710, 335], [57, ...</td>\n",
       "      <td>0</td>\n",
       "    </tr>\n",
       "    <tr>\n",
       "      <th>3</th>\n",
       "      <td>4968</td>\n",
       "      <td>220</td>\n",
       "      <td>[[56, 48, 313, 346], [56, 49, 403, 347], [56, ...</td>\n",
       "      <td>1</td>\n",
       "    </tr>\n",
       "    <tr>\n",
       "      <th>4</th>\n",
       "      <td>6548</td>\n",
       "      <td>21</td>\n",
       "      <td>[[57, 59, 346, 350], [58, 60, 345, 348], [58, ...</td>\n",
       "      <td>0</td>\n",
       "    </tr>\n",
       "    <tr>\n",
       "      <th>...</th>\n",
       "      <td>...</td>\n",
       "      <td>...</td>\n",
       "      <td>...</td>\n",
       "      <td>...</td>\n",
       "    </tr>\n",
       "    <tr>\n",
       "      <th>15544</th>\n",
       "      <td>4161</td>\n",
       "      <td>357</td>\n",
       "      <td>[[32, 41, 356, 83], [32, 42, 1891, 83], [32, 4...</td>\n",
       "      <td>0</td>\n",
       "    </tr>\n",
       "    <tr>\n",
       "      <th>15545</th>\n",
       "      <td>6566</td>\n",
       "      <td>245</td>\n",
       "      <td>[[56, 47, 575, 284], [56, 48, 298, 298], [57, ...</td>\n",
       "      <td>0</td>\n",
       "    </tr>\n",
       "    <tr>\n",
       "      <th>15546</th>\n",
       "      <td>851</td>\n",
       "      <td>31</td>\n",
       "      <td>[[53, 62, 305, 282], [54, 62, 516, 281], [55, ...</td>\n",
       "      <td>0</td>\n",
       "    </tr>\n",
       "    <tr>\n",
       "      <th>15547</th>\n",
       "      <td>1389</td>\n",
       "      <td>207</td>\n",
       "      <td>[[51, 53, 446, 277], [51, 52, 297, 280], [54, ...</td>\n",
       "      <td>1</td>\n",
       "    </tr>\n",
       "    <tr>\n",
       "      <th>15548</th>\n",
       "      <td>1890</td>\n",
       "      <td>219</td>\n",
       "      <td>[[56, 29, 507, 281], [56, 30, 488, 280], [57, ...</td>\n",
       "      <td>1</td>\n",
       "    </tr>\n",
       "  </tbody>\n",
       "</table>\n",
       "<p>15549 rows × 4 columns</p>\n",
       "</div>"
      ],
      "text/plain": [
       "       event  nhits                             [row, col, qmax, tmax]  label\n",
       "0       6121    403  [[59, 35, 865, 358], [59, 34, 307, 374], [58, ...      0\n",
       "1       1105    204  [[59, 55, 462, 347], [59, 56, 1262, 346], [59,...      1\n",
       "2       9545    195  [[56, 63, 599, 335], [57, 63, 710, 335], [57, ...      0\n",
       "3       4968    220  [[56, 48, 313, 346], [56, 49, 403, 347], [56, ...      1\n",
       "4       6548     21  [[57, 59, 346, 350], [58, 60, 345, 348], [58, ...      0\n",
       "...      ...    ...                                                ...    ...\n",
       "15544   4161    357  [[32, 41, 356, 83], [32, 42, 1891, 83], [32, 4...      0\n",
       "15545   6566    245  [[56, 47, 575, 284], [56, 48, 298, 298], [57, ...      0\n",
       "15546    851     31  [[53, 62, 305, 282], [54, 62, 516, 281], [55, ...      0\n",
       "15547   1389    207  [[51, 53, 446, 277], [51, 52, 297, 280], [54, ...      1\n",
       "15548   1890    219  [[56, 29, 507, 281], [56, 30, 488, 280], [57, ...      1\n",
       "\n",
       "[15549 rows x 4 columns]"
      ]
     },
     "execution_count": 4,
     "metadata": {},
     "output_type": "execute_result"
    }
   ],
   "source": [
    "input_paths"
   ]
  },
  {
   "cell_type": "code",
   "execution_count": 5,
   "id": "c5127f9e-80d5-4785-90fa-00d3025148ef",
   "metadata": {
    "tags": []
   },
   "outputs": [],
   "source": [
    "def parse_list_column(column):\n",
    "    try:\n",
    "        return eval(column)\n",
    "    except:\n",
    "        return []\n",
    "\n",
    "input_paths['[row, col, qmax, tmax]'] = input_paths['[row, col, qmax, tmax]'].apply(parse_list_column)\n",
    "\n",
    "data_list = input_paths['[row, col, qmax, tmax]'].tolist()"
   ]
  },
  {
   "cell_type": "markdown",
   "id": "6ef4faf1-c85c-497c-9439-75297a61b642",
   "metadata": {},
   "source": [
    "These are the types of images we want CNN to differentiate:"
   ]
  },
  {
   "cell_type": "markdown",
   "id": "42e7e14c-8eab-4726-b478-c20919a3adc9",
   "metadata": {},
   "source": [
    "- Proton event (label=0):"
   ]
  },
  {
   "cell_type": "code",
   "execution_count": 6,
   "id": "c72cbbcf-f3b2-473f-a5f7-b02058e225e3",
   "metadata": {
    "tags": []
   },
   "outputs": [
    {
     "data": {
      "image/png": "[encoded data removed]",
      "text/plain": [
       "<Figure size 640x480 with 1 Axes>"
      ]
     },
     "metadata": {},
     "output_type": "display_data"
    }
   ],
   "source": [
    "matrix= np.zeros((64, 144))\n",
    "for array in input_paths.at[0, '[row, col, qmax, tmax]']:\n",
    "    row, col, qmax, tmax = array\n",
    "    matrix[row][col] = tmax\n",
    "\n",
    "plt.imshow(matrix, cmap='Greys', origin='lower')  \n",
    "plt.gca().set_xticks([])\n",
    "plt.gca().set_yticks([])\n",
    "plt.xlabel('col')  \n",
    "plt.ylabel('row')  \n",
    "plt.show()"
   ]
  },
  {
   "cell_type": "markdown",
   "id": "510400c3-9642-4751-a4fc-8d5d3096a6f3",
   "metadata": {},
   "source": [
    "- Muon event (label=1):"
   ]
  },
  {
   "cell_type": "code",
   "execution_count": 7,
   "id": "4e58f7ec-e889-4249-a64d-dfcd51ba5d97",
   "metadata": {},
   "outputs": [
    {
     "data": {
      "image/png": "[encoded data removed]",
      "text/plain": [
       "<Figure size 640x480 with 1 Axes>"
      ]
     },
     "metadata": {},
     "output_type": "display_data"
    }
   ],
   "source": [
    "matrix= np.zeros((64, 144))\n",
    "for array in input_paths.at[1, '[row, col, qmax, tmax]']:\n",
    "    row, col, qmax, tmax = array\n",
    "    matrix[row][col] = tmax\n",
    "\n",
    "plt.imshow(matrix, cmap='Greys', origin='lower')  \n",
    "plt.gca().set_xticks([])\n",
    "plt.gca().set_yticks([])\n",
    "plt.xlabel('col')  \n",
    "plt.ylabel('row')  \n",
    "plt.show()"
   ]
  },
  {
   "cell_type": "markdown",
   "id": "4be9a6c5-3fd1-4fd9-afe5-300c8c935444",
   "metadata": {},
   "source": [
    "Number of data we have in the dataframe:"
   ]
  },
  {
   "cell_type": "code",
   "execution_count": 8,
   "id": "deb6ce4d-e637-4e1a-99ad-247ebfaa510f",
   "metadata": {
    "tags": []
   },
   "outputs": [
    {
     "data": {
      "text/plain": [
       "15549"
      ]
     },
     "execution_count": 8,
     "metadata": {},
     "output_type": "execute_result"
    }
   ],
   "source": [
    "n_events=len(input_paths)\n",
    "n_events"
   ]
  },
  {
   "cell_type": "markdown",
   "id": "0e6f1a13-3026-4217-b7f5-939d046cfa18",
   "metadata": {},
   "source": [
    "The data is divided into training data (70%) and test data (30%):"
   ]
  },
  {
   "cell_type": "code",
   "execution_count": 9,
   "id": "9bf9eaef-e80f-40ab-945e-71973d9db695",
   "metadata": {
    "tags": []
   },
   "outputs": [],
   "source": [
    "training_data = input_paths.iloc[:10884]\n",
    "test_data = input_paths.iloc[10844+ 1:]"
   ]
  },
  {
   "cell_type": "markdown",
   "id": "41aa20ca-e415-4804-b93c-3f776733d1f1",
   "metadata": {},
   "source": [
    "- Training Data:"
   ]
  },
  {
   "cell_type": "code",
   "execution_count": 10,
   "id": "e4ccf70d-a027-4267-8594-24358ca4617e",
   "metadata": {
    "tags": []
   },
   "outputs": [
    {
     "data": {
      "text/html": [
       "<div>\n",
       "<style scoped>\n",
       "    .dataframe tbody tr th:only-of-type {\n",
       "        vertical-align: middle;\n",
       "    }\n",
       "\n",
       "    .dataframe tbody tr th {\n",
       "        vertical-align: top;\n",
       "    }\n",
       "\n",
       "    .dataframe thead th {\n",
       "        text-align: right;\n",
       "    }\n",
       "</style>\n",
       "<table border=\"1\" class=\"dataframe\">\n",
       "  <thead>\n",
       "    <tr style=\"text-align: right;\">\n",
       "      <th></th>\n",
       "      <th>event</th>\n",
       "      <th>nhits</th>\n",
       "      <th>[row, col, qmax, tmax]</th>\n",
       "      <th>label</th>\n",
       "    </tr>\n",
       "  </thead>\n",
       "  <tbody>\n",
       "    <tr>\n",
       "      <th>0</th>\n",
       "      <td>6121</td>\n",
       "      <td>403</td>\n",
       "      <td>[[59, 35, 865, 358], [59, 34, 307, 374], [58, ...</td>\n",
       "      <td>0</td>\n",
       "    </tr>\n",
       "    <tr>\n",
       "      <th>1</th>\n",
       "      <td>1105</td>\n",
       "      <td>204</td>\n",
       "      <td>[[59, 55, 462, 347], [59, 56, 1262, 346], [59,...</td>\n",
       "      <td>1</td>\n",
       "    </tr>\n",
       "    <tr>\n",
       "      <th>2</th>\n",
       "      <td>9545</td>\n",
       "      <td>195</td>\n",
       "      <td>[[56, 63, 599, 335], [57, 63, 710, 335], [57, ...</td>\n",
       "      <td>0</td>\n",
       "    </tr>\n",
       "    <tr>\n",
       "      <th>3</th>\n",
       "      <td>4968</td>\n",
       "      <td>220</td>\n",
       "      <td>[[56, 48, 313, 346], [56, 49, 403, 347], [56, ...</td>\n",
       "      <td>1</td>\n",
       "    </tr>\n",
       "    <tr>\n",
       "      <th>4</th>\n",
       "      <td>6548</td>\n",
       "      <td>21</td>\n",
       "      <td>[[57, 59, 346, 350], [58, 60, 345, 348], [58, ...</td>\n",
       "      <td>0</td>\n",
       "    </tr>\n",
       "    <tr>\n",
       "      <th>...</th>\n",
       "      <td>...</td>\n",
       "      <td>...</td>\n",
       "      <td>...</td>\n",
       "      <td>...</td>\n",
       "    </tr>\n",
       "    <tr>\n",
       "      <th>10879</th>\n",
       "      <td>592</td>\n",
       "      <td>228</td>\n",
       "      <td>[[56, 46, 495, 326], [56, 47, 490, 331], [57, ...</td>\n",
       "      <td>1</td>\n",
       "    </tr>\n",
       "    <tr>\n",
       "      <th>10880</th>\n",
       "      <td>3133</td>\n",
       "      <td>201</td>\n",
       "      <td>[[59, 35, 306, 320], [58, 35, 543, 320], [57, ...</td>\n",
       "      <td>1</td>\n",
       "    </tr>\n",
       "    <tr>\n",
       "      <th>10881</th>\n",
       "      <td>4651</td>\n",
       "      <td>33</td>\n",
       "      <td>[[56, 21, 311, 342], [56, 20, 777, 317], [56, ...</td>\n",
       "      <td>0</td>\n",
       "    </tr>\n",
       "    <tr>\n",
       "      <th>10882</th>\n",
       "      <td>7234</td>\n",
       "      <td>266</td>\n",
       "      <td>[[58, 41, 430, 317], [58, 40, 292, 321], [59, ...</td>\n",
       "      <td>0</td>\n",
       "    </tr>\n",
       "    <tr>\n",
       "      <th>10883</th>\n",
       "      <td>4689</td>\n",
       "      <td>179</td>\n",
       "      <td>[[57, 32, 494, 305], [57, 33, 293, 317], [58, ...</td>\n",
       "      <td>0</td>\n",
       "    </tr>\n",
       "  </tbody>\n",
       "</table>\n",
       "<p>10884 rows × 4 columns</p>\n",
       "</div>"
      ],
      "text/plain": [
       "       event  nhits                             [row, col, qmax, tmax]  label\n",
       "0       6121    403  [[59, 35, 865, 358], [59, 34, 307, 374], [58, ...      0\n",
       "1       1105    204  [[59, 55, 462, 347], [59, 56, 1262, 346], [59,...      1\n",
       "2       9545    195  [[56, 63, 599, 335], [57, 63, 710, 335], [57, ...      0\n",
       "3       4968    220  [[56, 48, 313, 346], [56, 49, 403, 347], [56, ...      1\n",
       "4       6548     21  [[57, 59, 346, 350], [58, 60, 345, 348], [58, ...      0\n",
       "...      ...    ...                                                ...    ...\n",
       "10879    592    228  [[56, 46, 495, 326], [56, 47, 490, 331], [57, ...      1\n",
       "10880   3133    201  [[59, 35, 306, 320], [58, 35, 543, 320], [57, ...      1\n",
       "10881   4651     33  [[56, 21, 311, 342], [56, 20, 777, 317], [56, ...      0\n",
       "10882   7234    266  [[58, 41, 430, 317], [58, 40, 292, 321], [59, ...      0\n",
       "10883   4689    179  [[57, 32, 494, 305], [57, 33, 293, 317], [58, ...      0\n",
       "\n",
       "[10884 rows x 4 columns]"
      ]
     },
     "execution_count": 10,
     "metadata": {},
     "output_type": "execute_result"
    }
   ],
   "source": [
    "training_data"
   ]
  },
  {
   "cell_type": "markdown",
   "id": "0451ce50-db18-4d01-b713-aa326940191e",
   "metadata": {},
   "source": [
    "- Test Data:"
   ]
  },
  {
   "cell_type": "code",
   "execution_count": 11,
   "id": "394e2d4c-8326-475a-9d8d-18da58887c34",
   "metadata": {
    "tags": []
   },
   "outputs": [],
   "source": [
    "test_data.reset_index(drop=True, inplace=True)"
   ]
  },
  {
   "cell_type": "code",
   "execution_count": 12,
   "id": "6fbf0dd4-e525-4478-b440-d60225078a36",
   "metadata": {
    "tags": []
   },
   "outputs": [
    {
     "data": {
      "text/html": [
       "<div>\n",
       "<style scoped>\n",
       "    .dataframe tbody tr th:only-of-type {\n",
       "        vertical-align: middle;\n",
       "    }\n",
       "\n",
       "    .dataframe tbody tr th {\n",
       "        vertical-align: top;\n",
       "    }\n",
       "\n",
       "    .dataframe thead th {\n",
       "        text-align: right;\n",
       "    }\n",
       "</style>\n",
       "<table border=\"1\" class=\"dataframe\">\n",
       "  <thead>\n",
       "    <tr style=\"text-align: right;\">\n",
       "      <th></th>\n",
       "      <th>event</th>\n",
       "      <th>nhits</th>\n",
       "      <th>[row, col, qmax, tmax]</th>\n",
       "      <th>label</th>\n",
       "    </tr>\n",
       "  </thead>\n",
       "  <tbody>\n",
       "    <tr>\n",
       "      <th>0</th>\n",
       "      <td>4096</td>\n",
       "      <td>209</td>\n",
       "      <td>[[58, 56, 301, 329], [58, 55, 295, 323], [59, ...</td>\n",
       "      <td>1</td>\n",
       "    </tr>\n",
       "    <tr>\n",
       "      <th>1</th>\n",
       "      <td>4491</td>\n",
       "      <td>213</td>\n",
       "      <td>[[56, 31, 327, 315], [57, 31, 659, 309], [57, ...</td>\n",
       "      <td>1</td>\n",
       "    </tr>\n",
       "    <tr>\n",
       "      <th>2</th>\n",
       "      <td>1965</td>\n",
       "      <td>208</td>\n",
       "      <td>[[56, 48, 287, 361], [56, 49, 359, 340], [57, ...</td>\n",
       "      <td>1</td>\n",
       "    </tr>\n",
       "    <tr>\n",
       "      <th>3</th>\n",
       "      <td>9303</td>\n",
       "      <td>216</td>\n",
       "      <td>[[56, 27, 456, 213], [57, 27, 340, 216], [58, ...</td>\n",
       "      <td>0</td>\n",
       "    </tr>\n",
       "    <tr>\n",
       "      <th>4</th>\n",
       "      <td>6132</td>\n",
       "      <td>203</td>\n",
       "      <td>[[59, 57, 307, 368], [59, 58, 597, 348], [59, ...</td>\n",
       "      <td>0</td>\n",
       "    </tr>\n",
       "    <tr>\n",
       "      <th>...</th>\n",
       "      <td>...</td>\n",
       "      <td>...</td>\n",
       "      <td>...</td>\n",
       "      <td>...</td>\n",
       "    </tr>\n",
       "    <tr>\n",
       "      <th>4699</th>\n",
       "      <td>4161</td>\n",
       "      <td>357</td>\n",
       "      <td>[[32, 41, 356, 83], [32, 42, 1891, 83], [32, 4...</td>\n",
       "      <td>0</td>\n",
       "    </tr>\n",
       "    <tr>\n",
       "      <th>4700</th>\n",
       "      <td>6566</td>\n",
       "      <td>245</td>\n",
       "      <td>[[56, 47, 575, 284], [56, 48, 298, 298], [57, ...</td>\n",
       "      <td>0</td>\n",
       "    </tr>\n",
       "    <tr>\n",
       "      <th>4701</th>\n",
       "      <td>851</td>\n",
       "      <td>31</td>\n",
       "      <td>[[53, 62, 305, 282], [54, 62, 516, 281], [55, ...</td>\n",
       "      <td>0</td>\n",
       "    </tr>\n",
       "    <tr>\n",
       "      <th>4702</th>\n",
       "      <td>1389</td>\n",
       "      <td>207</td>\n",
       "      <td>[[51, 53, 446, 277], [51, 52, 297, 280], [54, ...</td>\n",
       "      <td>1</td>\n",
       "    </tr>\n",
       "    <tr>\n",
       "      <th>4703</th>\n",
       "      <td>1890</td>\n",
       "      <td>219</td>\n",
       "      <td>[[56, 29, 507, 281], [56, 30, 488, 280], [57, ...</td>\n",
       "      <td>1</td>\n",
       "    </tr>\n",
       "  </tbody>\n",
       "</table>\n",
       "<p>4704 rows × 4 columns</p>\n",
       "</div>"
      ],
      "text/plain": [
       "      event  nhits                             [row, col, qmax, tmax]  label\n",
       "0      4096    209  [[58, 56, 301, 329], [58, 55, 295, 323], [59, ...      1\n",
       "1      4491    213  [[56, 31, 327, 315], [57, 31, 659, 309], [57, ...      1\n",
       "2      1965    208  [[56, 48, 287, 361], [56, 49, 359, 340], [57, ...      1\n",
       "3      9303    216  [[56, 27, 456, 213], [57, 27, 340, 216], [58, ...      0\n",
       "4      6132    203  [[59, 57, 307, 368], [59, 58, 597, 348], [59, ...      0\n",
       "...     ...    ...                                                ...    ...\n",
       "4699   4161    357  [[32, 41, 356, 83], [32, 42, 1891, 83], [32, 4...      0\n",
       "4700   6566    245  [[56, 47, 575, 284], [56, 48, 298, 298], [57, ...      0\n",
       "4701    851     31  [[53, 62, 305, 282], [54, 62, 516, 281], [55, ...      0\n",
       "4702   1389    207  [[51, 53, 446, 277], [51, 52, 297, 280], [54, ...      1\n",
       "4703   1890    219  [[56, 29, 507, 281], [56, 30, 488, 280], [57, ...      1\n",
       "\n",
       "[4704 rows x 4 columns]"
      ]
     },
     "execution_count": 12,
     "metadata": {},
     "output_type": "execute_result"
    }
   ],
   "source": [
    "test_data"
   ]
  },
  {
   "cell_type": "markdown",
   "id": "d284f354-0eeb-43e3-af32-da5e40075d45",
   "metadata": {
    "tags": []
   },
   "source": [
    "**Cleaning Data**"
   ]
  },
  {
   "cell_type": "markdown",
   "id": "924d3f88-fcaf-4d0e-be1d-9f53289ae34b",
   "metadata": {},
   "source": [
    "1) Input (x)"
   ]
  },
  {
   "cell_type": "markdown",
   "id": "95fa1465-4645-48e1-9440-fe2d4fd07e83",
   "metadata": {},
   "source": [
    "A tensor is built with the images input:"
   ]
  },
  {
   "cell_type": "markdown",
   "id": "3d1af829-0736-496d-b807-f4d5df9aaccf",
   "metadata": {},
   "source": [
    "- Training tensor Data:"
   ]
  },
  {
   "cell_type": "code",
   "execution_count": 13,
   "id": "ba02edf7-b260-436e-a9c5-df3539a43b7d",
   "metadata": {
    "tags": []
   },
   "outputs": [],
   "source": [
    "tensor_shape = (len(training_data), 64, 144)  \n",
    "training_data_tensor = np.zeros(tensor_shape)  \n",
    "\n",
    "for i in range(len(training_data)):\n",
    "    matrix = np.zeros((64, 144))\n",
    "    for array in training_data.at[i, '[row, col, qmax, tmax]']:\n",
    "        row, col, qmax, tmax = array\n",
    "        matrix[row][col] = tmax\n",
    "    training_data_tensor[i] = matrix  "
   ]
  },
  {
   "cell_type": "markdown",
   "id": "24164f63-1f59-43f4-8da4-55425f46f9ab",
   "metadata": {},
   "source": [
    "Dimensions of the Training tensor Data (nº of images, row, col):"
   ]
  },
  {
   "cell_type": "code",
   "execution_count": 14,
   "id": "19e196ff-78ef-4c67-a053-2c23101ded58",
   "metadata": {
    "tags": []
   },
   "outputs": [
    {
     "data": {
      "text/plain": [
       "(10884, 64, 144)"
      ]
     },
     "execution_count": 14,
     "metadata": {},
     "output_type": "execute_result"
    }
   ],
   "source": [
    "training_data_tensor.shape"
   ]
  },
  {
   "cell_type": "code",
   "execution_count": 15,
   "id": "d28e8325-42ba-4ea2-90db-1767ac5b3d22",
   "metadata": {
    "tags": []
   },
   "outputs": [
    {
     "data": {
      "text/plain": [
       "10884"
      ]
     },
     "execution_count": 15,
     "metadata": {},
     "output_type": "execute_result"
    }
   ],
   "source": [
    "n_events_training_tensor=len(training_data)\n",
    "n_events_training_tensor"
   ]
  },
  {
   "cell_type": "code",
   "execution_count": 16,
   "id": "c9d5e38a-9bc0-4c41-8f1d-13aa97b53473",
   "metadata": {
    "tags": []
   },
   "outputs": [],
   "source": [
    "tmax_list = []\n",
    "\n",
    "for i in range(training_data_tensor.shape[0]):\n",
    "    for j in range(training_data_tensor.shape[1]):\n",
    "        for k in range(training_data_tensor.shape[2]):\n",
    "            if training_data_tensor[i, j, k] != 0:\n",
    "                tmax_list.append(training_data_tensor[i, j, k])"
   ]
  },
  {
   "cell_type": "code",
   "execution_count": 17,
   "id": "0d780a71-8239-4e49-bef3-57a5b2950461",
   "metadata": {
    "tags": []
   },
   "outputs": [
    {
     "data": {
      "image/png": "[encoded data removed]",
      "text/plain": [
       "<Figure size 640x480 with 1 Axes>"
      ]
     },
     "metadata": {},
     "output_type": "display_data"
    }
   ],
   "source": [
    "num_inputs= len(tmax_list)\n",
    "\n",
    "plt.hist(tmax_list, bins=100) \n",
    "\n",
    "plt.xlabel('tmax value')\n",
    "plt.ylabel('Frequence')\n",
    "plt.title('tmax in training_tensor Histogram')\n",
    "legend_label= f'Nº inputs: {num_inputs}'\n",
    "plt.legend([legend_label])\n",
    "\n",
    "plt.show()"
   ]
  },
  {
   "cell_type": "markdown",
   "id": "17d286ab-3e91-4d71-a3a1-def2182d7b0c",
   "metadata": {},
   "source": [
    "- Test tensor Data:"
   ]
  },
  {
   "cell_type": "code",
   "execution_count": 18,
   "id": "388c089b-b63f-4d7b-b791-61d2d1eb2f10",
   "metadata": {
    "tags": []
   },
   "outputs": [],
   "source": [
    "tensor_shape_2 = (len(test_data), 64, 144)  \n",
    "test_data_tensor = np.zeros(tensor_shape_2)  \n",
    "tmax_array=[]\n",
    "\n",
    "for i in range(len(test_data)):\n",
    "    matrix = np.zeros((64, 144))\n",
    "    for array in test_data.at[i, '[row, col, qmax, tmax]']:\n",
    "        row, col, qmax, tmax = array\n",
    "        matrix[row][col] = tmax\n",
    "        tmax_array.append(tmax)\n",
    "    test_data_tensor[i] = matrix  "
   ]
  },
  {
   "cell_type": "markdown",
   "id": "0d13d5e0-6763-4524-9d80-2e8e59031f4c",
   "metadata": {},
   "source": [
    "Dimensions of the Test tensor Data (nº of images, row, col):"
   ]
  },
  {
   "cell_type": "code",
   "execution_count": 19,
   "id": "da267d70-46fb-4970-95e1-d2a56201b606",
   "metadata": {
    "tags": []
   },
   "outputs": [
    {
     "data": {
      "text/plain": [
       "(4704, 64, 144)"
      ]
     },
     "execution_count": 19,
     "metadata": {},
     "output_type": "execute_result"
    }
   ],
   "source": [
    "test_data_tensor.shape"
   ]
  },
  {
   "cell_type": "code",
   "execution_count": 20,
   "id": "8838855a-3006-4989-93a3-be98e20cee41",
   "metadata": {
    "tags": []
   },
   "outputs": [
    {
     "data": {
      "text/plain": [
       "4704"
      ]
     },
     "execution_count": 20,
     "metadata": {},
     "output_type": "execute_result"
    }
   ],
   "source": [
    "n_events_test_tensor=len(test_data)\n",
    "n_events_test_tensor"
   ]
  },
  {
   "cell_type": "code",
   "execution_count": 21,
   "id": "0342631d-5175-4e7a-bbc9-0e321aae2dc8",
   "metadata": {
    "tags": []
   },
   "outputs": [],
   "source": [
    "tmax_list_2 = []\n",
    "\n",
    "for i in range(test_data_tensor.shape[0]):\n",
    "    for j in range(test_data_tensor.shape[1]):\n",
    "        for k in range(test_data_tensor.shape[2]):\n",
    "            if test_data_tensor[i, j, k] != 0:\n",
    "                tmax_list_2.append(test_data_tensor[i, j, k])"
   ]
  },
  {
   "cell_type": "code",
   "execution_count": 22,
   "id": "8d43cf09-50bc-49fb-8060-363aed4c0242",
   "metadata": {
    "tags": []
   },
   "outputs": [
    {
     "data": {
      "image/png": "[encoded data removed]",
      "text/plain": [
       "<Figure size 640x480 with 1 Axes>"
      ]
     },
     "metadata": {},
     "output_type": "display_data"
    }
   ],
   "source": [
    "num_inputs= len(tmax_list_2)\n",
    "\n",
    "plt.hist(tmax_list_2, bins=100) \n",
    "\n",
    "plt.xlabel('tmax value')\n",
    "plt.ylabel('Frequence')\n",
    "plt.title('tmax in test_tensor Histogram')\n",
    "legend_label= f'Nº inputs: {num_inputs}'\n",
    "plt.legend([legend_label])\n",
    "\n",
    "plt.show()"
   ]
  },
  {
   "cell_type": "markdown",
   "id": "5555de0c-8b4f-4c61-9db1-f2ad9c0f85f9",
   "metadata": {},
   "source": [
    "- Tensor Reshape:"
   ]
  },
  {
   "cell_type": "markdown",
   "id": "70221bb5-bd39-4aa0-9318-922b05c732d1",
   "metadata": {},
   "source": [
    "A dimension referring to the color channel of the images (1 for gray, 3 for RGB) is added to the tensors:"
   ]
  },
  {
   "cell_type": "code",
   "execution_count": 23,
   "id": "b734d4db-1cd4-4066-9a14-8a5c562d0eb4",
   "metadata": {
    "tags": []
   },
   "outputs": [],
   "source": [
    "x_train = training_data_tensor.reshape(len(training_data), 64, 144, 1) #nº images, row, col, nº channel colors (1 for grey, 3 for RGB)\n",
    "x_test = test_data_tensor.reshape(len(test_data), 64, 144, 1)\n",
    "\n",
    "x_train = x_train.astype('float32')\n",
    "x_test = x_test.astype('float32')\n",
    "\n",
    "x_train /= 255\n",
    "x_test /= 255"
   ]
  },
  {
   "cell_type": "markdown",
   "id": "829f8519-7fbc-4f7f-86ef-0c0621edec35",
   "metadata": {},
   "source": [
    "Dimensions of the input:"
   ]
  },
  {
   "cell_type": "code",
   "execution_count": 24,
   "id": "1838e0d1-4b3e-4fa9-899c-abfac168200d",
   "metadata": {
    "tags": []
   },
   "outputs": [
    {
     "data": {
      "text/plain": [
       "((10884, 64, 144, 1), (4704, 64, 144, 1))"
      ]
     },
     "execution_count": 24,
     "metadata": {},
     "output_type": "execute_result"
    }
   ],
   "source": [
    "x_train.shape, x_test.shape"
   ]
  },
  {
   "cell_type": "markdown",
   "id": "1105d3a4-0e8e-4b0d-930f-e7e38499d939",
   "metadata": {
    "tags": []
   },
   "source": [
    "2) Output (y)"
   ]
  },
  {
   "cell_type": "code",
   "execution_count": 25,
   "id": "639786a6-d35b-485a-a8b0-9db8e840770f",
   "metadata": {
    "tags": []
   },
   "outputs": [],
   "source": [
    "y_train=training_data['label'].to_numpy()\n",
    "y_test=test_data['label'].to_numpy()"
   ]
  },
  {
   "cell_type": "markdown",
   "id": "551793c4-f6c1-4b03-b447-e3693c58c2b7",
   "metadata": {},
   "source": [
    "Convert the dependent variable in the form of integers to a binary class matrix."
   ]
  },
  {
   "cell_type": "code",
   "execution_count": 26,
   "id": "6d86d8ae-1958-46a8-8121-c7433ee139bf",
   "metadata": {
    "tags": []
   },
   "outputs": [
    {
     "name": "stderr",
     "output_type": "stream",
     "text": [
      "2023-09-20 11:15:20.671105: I tensorflow/core/util/port.cc:110] oneDNN custom operations are on. You may see slightly different numerical results due to floating-point round-off errors from different computation orders. To turn them off, set the environment variable `TF_ENABLE_ONEDNN_OPTS=0`.\n",
      "2023-09-20 11:15:20.730783: I tensorflow/core/platform/cpu_feature_guard.cc:182] This TensorFlow binary is optimized to use available CPU instructions in performance-critical operations.\n",
      "To enable the following instructions: AVX2 AVX512F AVX512_VNNI FMA, in other operations, rebuild TensorFlow with the appropriate compiler flags.\n",
      "2023-09-20 11:15:22.668909: W tensorflow/compiler/tf2tensorrt/utils/py_utils.cc:38] TF-TRT Warning: Could not find TensorRT\n"
     ]
    }
   ],
   "source": [
    "from keras.utils import to_categorical\n",
    "num_classes = 2\n",
    "\n",
    "y_train = to_categorical(y_train, num_classes)\n",
    "y_test = to_categorical(y_test, num_classes)"
   ]
  },
  {
   "cell_type": "markdown",
   "id": "7c626928-3e70-4e11-bd3a-7820b621ecfd",
   "metadata": {},
   "source": [
    "Dimensions of the output:"
   ]
  },
  {
   "cell_type": "code",
   "execution_count": 27,
   "id": "34c3a69c-1f67-48e7-9ab1-0e5e3126dd5e",
   "metadata": {
    "tags": []
   },
   "outputs": [
    {
     "data": {
      "text/plain": [
       "((10884, 2), (4704, 2))"
      ]
     },
     "execution_count": 27,
     "metadata": {},
     "output_type": "execute_result"
    }
   ],
   "source": [
    "y_train.shape, y_test.shape"
   ]
  },
  {
   "cell_type": "markdown",
   "id": "7eb4ccb5-fde6-44e3-b16b-a9599b451891",
   "metadata": {},
   "source": [
    "**Design Model**"
   ]
  },
  {
   "cell_type": "markdown",
   "id": "a8cd5420-a173-4d10-8f64-785fcb7d6639",
   "metadata": {},
   "source": [
    "The first step is to add a convolutional layer, which takes the input image:"
   ]
  },
  {
   "cell_type": "code",
   "execution_count": 28,
   "id": "5fd0e9bd-791c-4714-bb67-da4e3ae34d9d",
   "metadata": {
    "tags": []
   },
   "outputs": [
    {
     "name": "stderr",
     "output_type": "stream",
     "text": [
      "2023-09-20 11:15:25.406664: W tensorflow/core/common_runtime/gpu/gpu_device.cc:1960] Cannot dlopen some GPU libraries. Please make sure the missing libraries mentioned above are installed properly if you would like to use GPU. Follow the guide at https://www.tensorflow.org/install/gpu for how to download and setup the required libraries for your platform.\n",
      "Skipping registering GPU devices...\n"
     ]
    }
   ],
   "source": [
    "from keras.models import Sequential\n",
    "from keras.layers import Dense, Dropout, Flatten, Conv2D, MaxPooling2D\n",
    "\n",
    "model = Sequential()  # creating the model\n",
    "model.add(Conv2D(32, kernel_size=(3, 3),  # nº filters=32, kernel size=(3,3)\n",
    "     activation='relu', #activation function= ReLU\n",
    "     input_shape=(64, 144, 1))) # this specifies the way images are input to the layer, dimensions of the input=(row, col, channel input)\n"
   ]
  },
  {
   "cell_type": "markdown",
   "id": "7eca92c5-ae2f-4651-b0c7-bc1f4be3e4ca",
   "metadata": {},
   "source": [
    "(A relu activation stands for “Rectified Linear Units”, which takes the max of a value or zero).   \n",
    "   \n",
    "Next, we add another convolutional layer, followed by a pooling layer:"
   ]
  },
  {
   "cell_type": "code",
   "execution_count": 29,
   "id": "8263ab29-a678-4831-9cad-2e02bd7e14a9",
   "metadata": {
    "tags": []
   },
   "outputs": [],
   "source": [
    "model.add(Conv2D(64, (3, 3), activation='relu')) # convolutional layer\n",
    "model.add(MaxPooling2D(pool_size=(2, 2))) # pooling layer"
   ]
  },
  {
   "cell_type": "markdown",
   "id": "d19a3d52-3d67-4d41-89bc-8ed1b8423208",
   "metadata": {},
   "source": [
    "Next, we add a “dropout” layer. While neural networks are trained on huge datasets, a problem of overfitting may occur. To avoid this issue, we randomly drop units and their connections during the training process. In this case, we’ll drop 25% of the units:"
   ]
  },
  {
   "cell_type": "code",
   "execution_count": 30,
   "id": "688b5495-6b30-4c02-8967-8dd23393fb1d",
   "metadata": {
    "tags": []
   },
   "outputs": [],
   "source": [
    "#model.add(Dropout(0.25))"
   ]
  },
  {
   "cell_type": "markdown",
   "id": "152a77df-de33-4380-af54-cf8b8374b254",
   "metadata": {},
   "source": [
    "Next, we add a flattening layer to convert the previous hidden layer into a 1D array:"
   ]
  },
  {
   "cell_type": "code",
   "execution_count": 31,
   "id": "e83e7863-7953-4baa-8261-aff634a380c4",
   "metadata": {
    "tags": []
   },
   "outputs": [],
   "source": [
    "model.add(Flatten())"
   ]
  },
  {
   "cell_type": "markdown",
   "id": "95d4fc80-f9c9-453d-ad64-ae290e02b8a5",
   "metadata": {
    "tags": []
   },
   "source": [
    "Once we’ve flattened the data into a 1D array, we can add a dense hidden layer, which is normal for a traditional neural network. Next, add another dropout layer before adding a final dense layer which classifies the data:"
   ]
  },
  {
   "cell_type": "code",
   "execution_count": 32,
   "id": "24a89970-cfe2-49df-b25f-f5f8e4404e9b",
   "metadata": {
    "tags": []
   },
   "outputs": [],
   "source": [
    "model.add(Dense(128, activation='relu')) # dense refers to a completely connected layer\n",
    "#model.add(Dropout(0.5))\n",
    "model.add(Dense(num_classes, activation='relu')) # softmax or relu"
   ]
  },
  {
   "cell_type": "markdown",
   "id": "85c9e379-bd51-4c37-bb95-5909125f3933",
   "metadata": {},
   "source": [
    "The softmax activation is used when we’d like to classify the data into a number of pre-decided classes."
   ]
  },
  {
   "cell_type": "markdown",
   "id": "4c2ce509-8c48-4e82-b553-455f99d7e50d",
   "metadata": {},
   "source": [
    "**Compile and Train Model**"
   ]
  },
  {
   "cell_type": "markdown",
   "id": "a8b4a26f-85b7-4b48-92f6-8a689d0f9fa7",
   "metadata": {},
   "source": [
    "In the model design process, we’ve created an empty model without an objective function. We need to compile the model and specify a loss function, an optimizer function, and a metric to assess model performance."
   ]
  },
  {
   "cell_type": "markdown",
   "id": "3654c0b3-1df3-4d3d-9254-c5e0a80d8b0c",
   "metadata": {},
   "source": [
    "We need to use a sparse_categorical_crossentropy() loss function in case we have an integer-dependent variable. For a vector-based dependent variable like a ten-size array as the output of each test case, use categorical_crossentropy. In this example, we’ll use the adam optimizer. The metric is the basis for the assessment of our model performance, though it’s only for us to judge and isn’t used in the training step:"
   ]
  },
  {
   "cell_type": "code",
   "execution_count": 33,
   "id": "a375b91f-a555-42a1-a18d-aff4ca3d3be2",
   "metadata": {
    "tags": []
   },
   "outputs": [],
   "source": [
    "model.compile(loss='mean_squared_error', #MSE o binary_crossentropy (2 discrimination) (las entradas normalizadas entre 0 y 1)\n",
    "      optimizer='adam',\n",
    "      metrics=['accuracy'])"
   ]
  },
  {
   "cell_type": "markdown",
   "id": "4e99bbe0-dbf6-4a9d-8986-7e73147a9306",
   "metadata": {},
   "source": [
    "We’re now ready to train the model using the .fit() method. We need to specify an epoch and batch size when training the model. An epoch is one forward pass and one backward pass of all training examples. A batch size is the number of training examples in one forward or backward pass."
   ]
  },
  {
   "cell_type": "code",
   "execution_count": 34,
   "id": "6a81795a-1e07-48bc-9405-21e55a6a6f35",
   "metadata": {
    "tags": []
   },
   "outputs": [
    {
     "data": {
      "text/plain": [
       "((10884, 64, 144, 1), (4704, 64, 144, 1))"
      ]
     },
     "execution_count": 34,
     "metadata": {},
     "output_type": "execute_result"
    }
   ],
   "source": [
    "x_train.shape, x_test.shape"
   ]
  },
  {
   "cell_type": "code",
   "execution_count": 35,
   "id": "cfab762f-a0d4-40bd-9d8f-2423eea6a4d8",
   "metadata": {
    "tags": []
   },
   "outputs": [
    {
     "data": {
      "text/plain": [
       "((10884, 2), (4704, 2))"
      ]
     },
     "execution_count": 35,
     "metadata": {},
     "output_type": "execute_result"
    }
   ],
   "source": [
    "y_train.shape, y_test.shape"
   ]
  },
  {
   "cell_type": "code",
   "execution_count": 36,
   "id": "ec849958-940a-4cdb-afb3-1d5b37a03dbd",
   "metadata": {
    "tags": []
   },
   "outputs": [
    {
     "name": "stdout",
     "output_type": "stream",
     "text": [
      "Epoch 1/100\n",
      "86/86 [==============================] - 18s 199ms/step - loss: 0.3393 - accuracy: 0.7460 - val_loss: 0.1625 - val_accuracy: 0.7966\n",
      "Epoch 2/100\n",
      "86/86 [==============================] - 17s 194ms/step - loss: 0.0995 - accuracy: 0.8899 - val_loss: 0.0758 - val_accuracy: 0.9213\n",
      "Epoch 3/100\n",
      "86/86 [==============================] - 17s 200ms/step - loss: 0.0572 - accuracy: 0.9395 - val_loss: 0.0686 - val_accuracy: 0.9245\n",
      "Epoch 4/100\n",
      "86/86 [==============================] - 17s 199ms/step - loss: 0.0429 - accuracy: 0.9572 - val_loss: 0.0640 - val_accuracy: 0.9311\n",
      "Epoch 5/100\n",
      "86/86 [==============================] - 17s 196ms/step - loss: 0.0306 - accuracy: 0.9712 - val_loss: 0.0621 - val_accuracy: 0.9318\n",
      "Epoch 6/100\n",
      "86/86 [==============================] - 17s 199ms/step - loss: 0.0224 - accuracy: 0.9809 - val_loss: 0.0612 - val_accuracy: 0.9320\n",
      "Epoch 7/100\n",
      "86/86 [==============================] - 16s 192ms/step - loss: 0.0193 - accuracy: 0.9816 - val_loss: 0.0629 - val_accuracy: 0.9313\n",
      "Epoch 8/100\n",
      "86/86 [==============================] - 17s 195ms/step - loss: 0.0139 - accuracy: 0.9865 - val_loss: 0.0627 - val_accuracy: 0.9332\n",
      "Epoch 9/100\n",
      "86/86 [==============================] - 17s 195ms/step - loss: 0.0112 - accuracy: 0.9881 - val_loss: 0.0618 - val_accuracy: 0.9307\n",
      "Epoch 10/100\n",
      "86/86 [==============================] - 17s 194ms/step - loss: 0.0098 - accuracy: 0.9906 - val_loss: 0.0681 - val_accuracy: 0.9267\n",
      "Epoch 11/100\n",
      "86/86 [==============================] - 16s 192ms/step - loss: 0.0107 - accuracy: 0.9901 - val_loss: 0.0632 - val_accuracy: 0.9318\n",
      "Epoch 12/100\n",
      "86/86 [==============================] - 17s 203ms/step - loss: 0.0076 - accuracy: 0.9918 - val_loss: 0.0636 - val_accuracy: 0.9296\n",
      "Epoch 13/100\n",
      "86/86 [==============================] - 17s 198ms/step - loss: 0.0062 - accuracy: 0.9945 - val_loss: 0.0634 - val_accuracy: 0.9296\n",
      "Epoch 14/100\n",
      "86/86 [==============================] - 17s 199ms/step - loss: 0.0055 - accuracy: 0.9954 - val_loss: 0.0651 - val_accuracy: 0.9260\n",
      "Epoch 15/100\n",
      "86/86 [==============================] - 17s 198ms/step - loss: 0.0047 - accuracy: 0.9964 - val_loss: 0.0666 - val_accuracy: 0.9281\n",
      "Epoch 16/100\n",
      "86/86 [==============================] - 17s 202ms/step - loss: 0.0044 - accuracy: 0.9974 - val_loss: 0.0657 - val_accuracy: 0.9260\n",
      "Epoch 17/100\n",
      "86/86 [==============================] - 17s 202ms/step - loss: 0.0040 - accuracy: 0.9979 - val_loss: 0.0690 - val_accuracy: 0.9211\n",
      "Epoch 18/100\n",
      "86/86 [==============================] - 17s 199ms/step - loss: 0.0067 - accuracy: 0.9966 - val_loss: 0.0679 - val_accuracy: 0.9235\n",
      "Epoch 19/100\n",
      "86/86 [==============================] - 17s 202ms/step - loss: 0.0046 - accuracy: 0.9983 - val_loss: 0.0675 - val_accuracy: 0.9269\n",
      "Epoch 20/100\n",
      "86/86 [==============================] - 17s 199ms/step - loss: 0.0033 - accuracy: 0.9986 - val_loss: 0.0666 - val_accuracy: 0.9260\n",
      "Epoch 21/100\n",
      "86/86 [==============================] - 17s 201ms/step - loss: 0.0026 - accuracy: 0.9990 - val_loss: 0.0681 - val_accuracy: 0.9233\n",
      "Epoch 22/100\n",
      "86/86 [==============================] - 17s 199ms/step - loss: 0.0024 - accuracy: 0.9989 - val_loss: 0.0675 - val_accuracy: 0.9260\n",
      "Epoch 23/100\n",
      "86/86 [==============================] - 17s 201ms/step - loss: 0.0021 - accuracy: 0.9993 - val_loss: 0.0675 - val_accuracy: 0.9262\n",
      "Epoch 24/100\n",
      "86/86 [==============================] - 18s 204ms/step - loss: 0.0019 - accuracy: 0.9993 - val_loss: 0.0685 - val_accuracy: 0.9230\n",
      "Epoch 25/100\n",
      "86/86 [==============================] - 17s 199ms/step - loss: 0.0018 - accuracy: 0.9997 - val_loss: 0.0687 - val_accuracy: 0.9241\n",
      "Epoch 26/100\n",
      "86/86 [==============================] - 17s 200ms/step - loss: 0.0020 - accuracy: 0.9994 - val_loss: 0.0678 - val_accuracy: 0.9254\n",
      "Epoch 27/100\n",
      "86/86 [==============================] - 17s 203ms/step - loss: 0.0020 - accuracy: 0.9994 - val_loss: 0.0683 - val_accuracy: 0.9228\n",
      "Epoch 28/100\n",
      "86/86 [==============================] - 17s 203ms/step - loss: 0.0019 - accuracy: 0.9995 - val_loss: 0.0674 - val_accuracy: 0.9224\n",
      "Epoch 29/100\n",
      "86/86 [==============================] - 17s 201ms/step - loss: 0.0016 - accuracy: 0.9995 - val_loss: 0.0685 - val_accuracy: 0.9254\n",
      "Epoch 30/100\n",
      "86/86 [==============================] - 17s 202ms/step - loss: 0.0022 - accuracy: 0.9994 - val_loss: 0.0692 - val_accuracy: 0.9196\n",
      "Epoch 31/100\n",
      "86/86 [==============================] - 18s 206ms/step - loss: 0.0024 - accuracy: 0.9996 - val_loss: 0.0675 - val_accuracy: 0.9230\n",
      "Epoch 32/100\n",
      "86/86 [==============================] - 18s 209ms/step - loss: 0.0018 - accuracy: 0.9995 - val_loss: 0.0682 - val_accuracy: 0.9245\n",
      "Epoch 33/100\n",
      "86/86 [==============================] - 17s 202ms/step - loss: 0.0015 - accuracy: 0.9995 - val_loss: 0.0671 - val_accuracy: 0.9235\n",
      "Epoch 34/100\n",
      "86/86 [==============================] - 18s 210ms/step - loss: 0.0013 - accuracy: 0.9995 - val_loss: 0.0680 - val_accuracy: 0.9237\n",
      "Epoch 35/100\n",
      "86/86 [==============================] - 18s 208ms/step - loss: 0.0011 - accuracy: 0.9997 - val_loss: 0.0687 - val_accuracy: 0.9218\n",
      "Epoch 36/100\n",
      "86/86 [==============================] - 18s 205ms/step - loss: 0.0013 - accuracy: 0.9995 - val_loss: 0.0684 - val_accuracy: 0.9224\n",
      "Epoch 37/100\n",
      "86/86 [==============================] - 17s 203ms/step - loss: 0.0012 - accuracy: 0.9996 - val_loss: 0.0684 - val_accuracy: 0.9218\n",
      "Epoch 38/100\n",
      "86/86 [==============================] - 18s 207ms/step - loss: 0.0012 - accuracy: 0.9997 - val_loss: 0.0676 - val_accuracy: 0.9213\n",
      "Epoch 39/100\n",
      "86/86 [==============================] - 17s 203ms/step - loss: 0.0013 - accuracy: 0.9998 - val_loss: 0.0681 - val_accuracy: 0.9226\n",
      "Epoch 40/100\n",
      "86/86 [==============================] - 18s 204ms/step - loss: 0.0011 - accuracy: 0.9998 - val_loss: 0.0677 - val_accuracy: 0.9216\n",
      "Epoch 41/100\n",
      "86/86 [==============================] - 18s 207ms/step - loss: 9.2927e-04 - accuracy: 0.9998 - val_loss: 0.0679 - val_accuracy: 0.9220\n",
      "Epoch 42/100\n",
      "86/86 [==============================] - 18s 207ms/step - loss: 8.4474e-04 - accuracy: 0.9998 - val_loss: 0.0673 - val_accuracy: 0.9243\n",
      "Epoch 43/100\n",
      "86/86 [==============================] - 18s 204ms/step - loss: 9.0523e-04 - accuracy: 0.9997 - val_loss: 0.0684 - val_accuracy: 0.9224\n",
      "Epoch 44/100\n",
      "86/86 [==============================] - 18s 205ms/step - loss: 8.5383e-04 - accuracy: 0.9997 - val_loss: 0.0671 - val_accuracy: 0.9254\n",
      "Epoch 45/100\n",
      "86/86 [==============================] - 18s 205ms/step - loss: 7.8405e-04 - accuracy: 0.9997 - val_loss: 0.0668 - val_accuracy: 0.9258\n",
      "Epoch 46/100\n",
      "86/86 [==============================] - 18s 207ms/step - loss: 8.6528e-04 - accuracy: 0.9998 - val_loss: 0.0688 - val_accuracy: 0.9216\n",
      "Epoch 47/100\n",
      "86/86 [==============================] - 18s 210ms/step - loss: 8.3868e-04 - accuracy: 0.9999 - val_loss: 0.0690 - val_accuracy: 0.9235\n",
      "Epoch 48/100\n",
      "86/86 [==============================] - 18s 205ms/step - loss: 9.6225e-04 - accuracy: 0.9997 - val_loss: 0.0681 - val_accuracy: 0.9226\n",
      "Epoch 49/100\n",
      "86/86 [==============================] - 17s 203ms/step - loss: 0.0011 - accuracy: 0.9999 - val_loss: 0.0685 - val_accuracy: 0.9235\n",
      "Epoch 50/100\n",
      "86/86 [==============================] - 18s 204ms/step - loss: 9.6832e-04 - accuracy: 0.9998 - val_loss: 0.0681 - val_accuracy: 0.9226\n",
      "Epoch 51/100\n",
      "86/86 [==============================] - 17s 203ms/step - loss: 0.0010 - accuracy: 0.9998 - val_loss: 0.0680 - val_accuracy: 0.9239\n",
      "Epoch 52/100\n",
      "86/86 [==============================] - 18s 204ms/step - loss: 0.0010 - accuracy: 0.9999 - val_loss: 0.0668 - val_accuracy: 0.9237\n",
      "Epoch 53/100\n",
      "86/86 [==============================] - 18s 206ms/step - loss: 9.1488e-04 - accuracy: 0.9997 - val_loss: 0.0669 - val_accuracy: 0.9235\n",
      "Epoch 54/100\n",
      "86/86 [==============================] - 18s 205ms/step - loss: 7.2224e-04 - accuracy: 0.9997 - val_loss: 0.0665 - val_accuracy: 0.9224\n",
      "Epoch 55/100\n",
      "86/86 [==============================] - 17s 202ms/step - loss: 6.6425e-04 - accuracy: 0.9997 - val_loss: 0.0674 - val_accuracy: 0.9233\n",
      "Epoch 56/100\n",
      "86/86 [==============================] - 17s 201ms/step - loss: 5.9355e-04 - accuracy: 0.9999 - val_loss: 0.0674 - val_accuracy: 0.9220\n",
      "Epoch 57/100\n",
      "86/86 [==============================] - 17s 203ms/step - loss: 6.8000e-04 - accuracy: 0.9998 - val_loss: 0.0674 - val_accuracy: 0.9226\n",
      "Epoch 58/100\n",
      "86/86 [==============================] - 18s 207ms/step - loss: 6.0871e-04 - accuracy: 0.9998 - val_loss: 0.0660 - val_accuracy: 0.9256\n",
      "Epoch 59/100\n",
      "86/86 [==============================] - 17s 202ms/step - loss: 6.7259e-04 - accuracy: 0.9998 - val_loss: 0.0684 - val_accuracy: 0.9218\n",
      "Epoch 60/100\n",
      "86/86 [==============================] - 18s 206ms/step - loss: 6.1963e-04 - accuracy: 0.9998 - val_loss: 0.0677 - val_accuracy: 0.9222\n",
      "Epoch 61/100\n",
      "86/86 [==============================] - 18s 205ms/step - loss: 5.7986e-04 - accuracy: 0.9999 - val_loss: 0.0671 - val_accuracy: 0.9233\n",
      "Epoch 62/100\n",
      "86/86 [==============================] - 18s 206ms/step - loss: 6.5400e-04 - accuracy: 0.9999 - val_loss: 0.0673 - val_accuracy: 0.9241\n",
      "Epoch 63/100\n",
      "86/86 [==============================] - 17s 203ms/step - loss: 7.3901e-04 - accuracy: 0.9999 - val_loss: 0.0693 - val_accuracy: 0.9182\n",
      "Epoch 64/100\n",
      "86/86 [==============================] - 17s 203ms/step - loss: 6.8897e-04 - accuracy: 0.9998 - val_loss: 0.0660 - val_accuracy: 0.9262\n",
      "Epoch 65/100\n",
      "86/86 [==============================] - 18s 208ms/step - loss: 6.7359e-04 - accuracy: 0.9997 - val_loss: 0.0680 - val_accuracy: 0.9209\n",
      "Epoch 66/100\n",
      "86/86 [==============================] - 18s 204ms/step - loss: 6.2833e-04 - accuracy: 0.9999 - val_loss: 0.0671 - val_accuracy: 0.9218\n",
      "Epoch 67/100\n",
      "86/86 [==============================] - 18s 204ms/step - loss: 6.1844e-04 - accuracy: 0.9998 - val_loss: 0.0665 - val_accuracy: 0.9241\n",
      "Epoch 68/100\n",
      "86/86 [==============================] - 17s 203ms/step - loss: 7.4157e-04 - accuracy: 0.9998 - val_loss: 0.0670 - val_accuracy: 0.9228\n",
      "Epoch 69/100\n",
      "86/86 [==============================] - 18s 204ms/step - loss: 7.1529e-04 - accuracy: 0.9997 - val_loss: 0.0662 - val_accuracy: 0.9241\n",
      "Epoch 70/100\n",
      "86/86 [==============================] - 18s 207ms/step - loss: 5.6167e-04 - accuracy: 0.9999 - val_loss: 0.0681 - val_accuracy: 0.9199\n",
      "Epoch 71/100\n",
      "86/86 [==============================] - 18s 207ms/step - loss: 6.2959e-04 - accuracy: 0.9999 - val_loss: 0.0663 - val_accuracy: 0.9226\n",
      "Epoch 72/100\n",
      "86/86 [==============================] - 18s 208ms/step - loss: 5.5211e-04 - accuracy: 0.9999 - val_loss: 0.0662 - val_accuracy: 0.9230\n",
      "Epoch 73/100\n",
      "86/86 [==============================] - 18s 212ms/step - loss: 4.9306e-04 - accuracy: 0.9998 - val_loss: 0.0679 - val_accuracy: 0.9218\n",
      "Epoch 74/100\n",
      "86/86 [==============================] - 18s 209ms/step - loss: 3.7092e-04 - accuracy: 0.9999 - val_loss: 0.0657 - val_accuracy: 0.9254\n",
      "Epoch 75/100\n",
      "86/86 [==============================] - 18s 206ms/step - loss: 4.4133e-04 - accuracy: 0.9998 - val_loss: 0.0667 - val_accuracy: 0.9233\n",
      "Epoch 76/100\n",
      "86/86 [==============================] - 18s 206ms/step - loss: 5.1355e-04 - accuracy: 0.9998 - val_loss: 0.0659 - val_accuracy: 0.9239\n",
      "Epoch 77/100\n",
      "86/86 [==============================] - 18s 205ms/step - loss: 4.3395e-04 - accuracy: 0.9999 - val_loss: 0.0665 - val_accuracy: 0.9237\n",
      "Epoch 78/100\n",
      "86/86 [==============================] - 18s 211ms/step - loss: 4.3467e-04 - accuracy: 0.9998 - val_loss: 0.0663 - val_accuracy: 0.9239\n",
      "Epoch 79/100\n",
      "86/86 [==============================] - 18s 204ms/step - loss: 4.3728e-04 - accuracy: 0.9999 - val_loss: 0.0661 - val_accuracy: 0.9226\n",
      "Epoch 80/100\n",
      "86/86 [==============================] - 18s 210ms/step - loss: 3.7713e-04 - accuracy: 0.9998 - val_loss: 0.0662 - val_accuracy: 0.9226\n",
      "Epoch 81/100\n",
      "86/86 [==============================] - 18s 208ms/step - loss: 3.4520e-04 - accuracy: 0.9998 - val_loss: 0.0679 - val_accuracy: 0.9224\n",
      "Epoch 82/100\n",
      "86/86 [==============================] - 18s 204ms/step - loss: 3.7882e-04 - accuracy: 0.9999 - val_loss: 0.0661 - val_accuracy: 0.9243\n",
      "Epoch 83/100\n",
      "86/86 [==============================] - 18s 206ms/step - loss: 3.1457e-04 - accuracy: 0.9999 - val_loss: 0.0657 - val_accuracy: 0.9254\n",
      "Epoch 84/100\n",
      "86/86 [==============================] - 18s 204ms/step - loss: 3.7149e-04 - accuracy: 0.9999 - val_loss: 0.0666 - val_accuracy: 0.9250\n",
      "Epoch 85/100\n",
      "86/86 [==============================] - 18s 205ms/step - loss: 3.3831e-04 - accuracy: 0.9999 - val_loss: 0.0656 - val_accuracy: 0.9237\n",
      "Epoch 86/100\n",
      "86/86 [==============================] - 18s 205ms/step - loss: 4.3611e-04 - accuracy: 0.9998 - val_loss: 0.0662 - val_accuracy: 0.9250\n",
      "Epoch 87/100\n",
      "86/86 [==============================] - 17s 203ms/step - loss: 4.7658e-04 - accuracy: 0.9999 - val_loss: 0.0664 - val_accuracy: 0.9247\n",
      "Epoch 88/100\n",
      "86/86 [==============================] - 17s 202ms/step - loss: 4.9858e-04 - accuracy: 0.9998 - val_loss: 0.0664 - val_accuracy: 0.9250\n",
      "Epoch 89/100\n",
      "86/86 [==============================] - 17s 203ms/step - loss: 4.2367e-04 - accuracy: 0.9998 - val_loss: 0.0709 - val_accuracy: 0.9150\n",
      "Epoch 90/100\n",
      "86/86 [==============================] - 17s 202ms/step - loss: 4.3833e-04 - accuracy: 0.9999 - val_loss: 0.0659 - val_accuracy: 0.9252\n",
      "Epoch 91/100\n",
      "86/86 [==============================] - 18s 207ms/step - loss: 3.9832e-04 - accuracy: 0.9999 - val_loss: 0.0647 - val_accuracy: 0.9245\n",
      "Epoch 92/100\n",
      "86/86 [==============================] - 18s 210ms/step - loss: 3.1635e-04 - accuracy: 0.9999 - val_loss: 0.0661 - val_accuracy: 0.9250\n",
      "Epoch 93/100\n",
      "86/86 [==============================] - 18s 206ms/step - loss: 2.8698e-04 - accuracy: 0.9998 - val_loss: 0.0655 - val_accuracy: 0.9250\n",
      "Epoch 94/100\n",
      "86/86 [==============================] - 18s 204ms/step - loss: 3.1641e-04 - accuracy: 0.9999 - val_loss: 0.0677 - val_accuracy: 0.9203\n",
      "Epoch 95/100\n",
      "86/86 [==============================] - 18s 205ms/step - loss: 3.0265e-04 - accuracy: 0.9998 - val_loss: 0.0663 - val_accuracy: 0.9226\n",
      "Epoch 96/100\n",
      "86/86 [==============================] - 18s 207ms/step - loss: 4.6884e-04 - accuracy: 0.9998 - val_loss: 0.0660 - val_accuracy: 0.9243\n",
      "Epoch 97/100\n",
      "86/86 [==============================] - 18s 205ms/step - loss: 3.6930e-04 - accuracy: 0.9998 - val_loss: 0.0673 - val_accuracy: 0.9220\n",
      "Epoch 98/100\n",
      "86/86 [==============================] - 18s 206ms/step - loss: 3.5865e-04 - accuracy: 0.9999 - val_loss: 0.0653 - val_accuracy: 0.9237\n",
      "Epoch 99/100\n",
      "86/86 [==============================] - 18s 204ms/step - loss: 3.8857e-04 - accuracy: 0.9997 - val_loss: 0.0665 - val_accuracy: 0.9256\n",
      "Epoch 100/100\n",
      "86/86 [==============================] - 18s 205ms/step - loss: 3.6225e-04 - accuracy: 0.9999 - val_loss: 0.0669 - val_accuracy: 0.9209\n",
      "Test loss: 0.06694182008504868\n",
      "Test accuracy: 0.920918345451355\n"
     ]
    },
    {
     "name": "stderr",
     "output_type": "stream",
     "text": [
      "/nfs/pic.es/user/m/mrodrigu/.local/lib/python3.11/site-packages/keras/src/engine/training.py:3000: UserWarning: You are saving your model as an HDF5 file via `model.save()`. This file format is considered legacy. We recommend using instead the native Keras format, e.g. `model.save('my_model.keras')`.\n",
      "  saving_api.save_model(\n"
     ]
    }
   ],
   "source": [
    "batch_size = 128\n",
    "epochs = 100\n",
    "\n",
    "history=model.fit(x_train, y_train,\n",
    "          batch_size=batch_size,\n",
    "          epochs=epochs,\n",
    "          verbose=1,\n",
    "          validation_data=(x_test, y_test))\n",
    "\n",
    "score = model.evaluate(x_test, y_test, verbose=0)\n",
    "print('Test loss:', score[0])\n",
    "print('Test accuracy:', score[1])\n",
    "model.save(\"test_model.h5\")"
   ]
  },
  {
   "cell_type": "markdown",
   "id": "252e1c6b-b196-4af5-ae5d-b1e6cbe8fcaf",
   "metadata": {},
   "source": [
    "**Evaluating the results**"
   ]
  },
  {
   "cell_type": "markdown",
   "id": "78696b83-cc36-4797-a24d-6a28cb401c77",
   "metadata": {},
   "source": [
    "Confusion Matrix:"
   ]
  },
  {
   "cell_type": "code",
   "execution_count": 37,
   "id": "9a933569-8233-46b7-9e9d-87f36ee0cdcf",
   "metadata": {
    "tags": []
   },
   "outputs": [
    {
     "name": "stdout",
     "output_type": "stream",
     "text": [
      "147/147 [==============================] - 4s 25ms/step\n"
     ]
    },
    {
     "data": {
      "image/png": "[encoded data removed]",
      "text/plain": [
       "<Figure size 800x600 with 2 Axes>"
      ]
     },
     "metadata": {},
     "output_type": "display_data"
    }
   ],
   "source": [
    "import numpy as np\n",
    "import matplotlib.pyplot as plt\n",
    "import seaborn as sns\n",
    "from sklearn.metrics import confusion_matrix\n",
    "\n",
    "# Predict the classes in the test set\n",
    "y_pred = model.predict(x_test)\n",
    "y_pred_classes = np.argmax(y_pred, axis=1)  # Get the predicted classes\n",
    "\n",
    "# Get the actual classes of the test set\n",
    "y_true = np.argmax(y_test, axis=1)\n",
    "\n",
    "# Calculate the confusion matrix\n",
    "confusion_mtx = confusion_matrix(y_true, y_pred_classes)\n",
    "confusion_mtx_normalized=confusion_mtx/confusion_mtx.sum(axis=1, keepdims=True)\n",
    "\n",
    "# Represent the confusion matrix\n",
    "plt.figure(figsize=(8, 6))\n",
    "sns.heatmap(confusion_mtx_normalized, annot=True, fmt=\".2f\", cmap=\"Blues\",\n",
    "            xticklabels=[\"p+\", \"μ+\"],\n",
    "            yticklabels=[\"p+\", \"μ+\"])\n",
    "plt.xlabel('Predicted Values')\n",
    "plt.ylabel('True values')\n",
    "plt.title('Normalized Confusion Matrix')\n",
    "plt.savefig('confusion_matrix.png', dpi=200)\n",
    "plt.show()\n"
   ]
  },
  {
   "cell_type": "markdown",
   "id": "4c510448-0354-4613-9fff-efc024c9df73",
   "metadata": {},
   "source": [
    "Loss and Accuracy:"
   ]
  },
  {
   "cell_type": "code",
   "execution_count": 38,
   "id": "938ea8cf-1fb7-402c-bab7-56e49d8919dc",
   "metadata": {
    "tags": []
   },
   "outputs": [
    {
     "data": {
      "image/png": "[encoded data removed]",
      "text/plain": [
       "<Figure size 800x600 with 1 Axes>"
      ]
     },
     "metadata": {},
     "output_type": "display_data"
    }
   ],
   "source": [
    "train_loss = history.history['loss']\n",
    "train_acc = history.history['accuracy']\n",
    "val_loss = history.history['val_loss']\n",
    "val_acc = history.history['val_accuracy']\n",
    "\n",
    "# Loss graph\n",
    "plt.figure(figsize=(8, 6))\n",
    "plt.plot(range(epochs), train_loss, label='Training Loss')\n",
    "plt.plot(range(epochs), val_loss, label='Validation Loss')\n",
    "plt.xlabel('Epochs')\n",
    "plt.ylabel('Loss')\n",
    "plt.title('Loss vs. Epoch')\n",
    "plt.legend()\n",
    "plt.savefig('loss_graph.png', dpi=200)\n",
    "plt.show()"
   ]
  },
  {
   "cell_type": "code",
   "execution_count": 39,
   "id": "f0ca1aa2-27d2-4671-aa40-a7778577bdc0",
   "metadata": {
    "tags": []
   },
   "outputs": [
    {
     "data": {
      "image/png": "[encoded data removed]",
      "text/plain": [
       "<Figure size 700x600 with 1 Axes>"
      ]
     },
     "metadata": {},
     "output_type": "display_data"
    }
   ],
   "source": [
    "# Accuracy graph\n",
    "plt.figure(figsize=(7, 6))\n",
    "plt.plot(range(epochs), train_acc, label='Training Accuracy')\n",
    "plt.plot(range(epochs), val_acc, label='Validation Accuracy')\n",
    "plt.xlabel('Epochs')\n",
    "plt.ylabel('Accuracy')\n",
    "plt.title('Accuracy vs. Epoch')\n",
    "plt.legend()\n",
    "plt.savefig('accuracy_graph.png', dpi=200)\n",
    "plt.show()"
   ]
  },
  {
   "cell_type": "markdown",
   "id": "1da97f31-2249-402e-91e2-f0c47cebb3e2",
   "metadata": {},
   "source": [
    "ROC (Receiver Operating Characteristic) curve:\n",
    "<div align=\"center\">\n",
    "$TPR = \\frac{TP}{TP + FN}$ &nbsp;&nbsp;&nbsp; $FPR = \\frac{FP}{FP + TN}$\n",
    "</div>"
   ]
  },
  {
   "cell_type": "code",
   "execution_count": 40,
   "id": "f4ca25d2-45fd-4f26-8dac-e5d9b966614f",
   "metadata": {
    "tags": []
   },
   "outputs": [
    {
     "data": {
      "image/png": "[encoded data removed]",
      "text/plain": [
       "<Figure size 800x600 with 1 Axes>"
      ]
     },
     "metadata": {},
     "output_type": "display_data"
    }
   ],
   "source": [
    "from sklearn.metrics import roc_curve, auc\n",
    "\n",
    "# Compute ROC curve and ROC area for each class\n",
    "fpr = roc_curve(y_true, y_pred_classes)[0]\n",
    "tpr = roc_curve(y_true, y_pred_classes)[1]\n",
    "roc_auc=auc(fpr, tpr)\n",
    "\n",
    "# Plot ROC curve\n",
    "plt.figure(figsize=(8, 6))\n",
    "plt.plot(fpr, tpr, color='darkorange', lw=2, label='ROC curve (area = %0.2f)' % roc_auc)\n",
    "plt.xlim([0.0, 1.0])\n",
    "plt.ylim([0.0, 1.05])\n",
    "plt.xlabel('FPR')\n",
    "plt.ylabel('TPR')\n",
    "plt.title('ROC curve')\n",
    "plt.legend(loc=\"lower right\")\n",
    "plt.savefig('roc_curve.png', dpi=200)\n",
    "plt.show()\n"
   ]
  }
 ],
 "metadata": {
  "kernelspec": {
   "display_name": "Python 3 (ipykernel)",
   "language": "python",
   "name": "python3"
  },
  "language_info": {
   "codemirror_mode": {
    "name": "ipython",
    "version": 3
   },
   "file_extension": ".py",
   "mimetype": "text/x-python",
   "name": "python",
   "nbconvert_exporter": "python",
   "pygments_lexer": "ipython3",
   "version": "3.11.5"
  }
 },
 "nbformat": 4,
 "nbformat_minor": 5
}
